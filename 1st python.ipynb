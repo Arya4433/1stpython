{
 "cells": [
  {
   "cell_type": "code",
   "execution_count": 4,
   "id": "d04ad3f5-242d-4e59-b0ee-6a3218f6cc8e",
   "metadata": {},
   "outputs": [],
   "source": [
    "import keyword"
   ]
  },
  {
   "cell_type": "code",
   "execution_count": 6,
   "id": "aab4c804-9052-468d-9ba0-3ad7a6643b42",
   "metadata": {},
   "outputs": [],
   "source": [
    "x = keyword.kwlist\n"
   ]
  },
  {
   "cell_type": "code",
   "execution_count": 8,
   "id": "514f91bd-d86f-42d0-a0d0-d7550c884286",
   "metadata": {},
   "outputs": [
    {
     "name": "stdout",
     "output_type": "stream",
     "text": [
      "['False', 'None', 'True', 'and', 'as', 'assert', 'async', 'await', 'break', 'class', 'continue', 'def', 'del', 'elif', 'else', 'except', 'finally', 'for', 'from', 'global', 'if', 'import', 'in', 'is', 'lambda', 'nonlocal', 'not', 'or', 'pass', 'raise', 'return', 'try', 'while', 'with', 'yield']\n"
     ]
    }
   ],
   "source": [
    "print(x)"
   ]
  },
  {
   "cell_type": "code",
   "execution_count": 12,
   "id": "e2701bb5-c520-453f-8f9c-735a0dcce393",
   "metadata": {},
   "outputs": [
    {
     "name": "stdout",
     "output_type": "stream",
     "text": [
      "35\n"
     ]
    }
   ],
   "source": [
    " print(len(x))"
   ]
  },
  {
   "cell_type": "code",
   "execution_count": 1,
   "id": "2f7ca077-568c-4a55-8329-b69e3fe964da",
   "metadata": {},
   "outputs": [],
   "source": [
    "import string\n"
   ]
  },
  {
   "cell_type": "code",
   "execution_count": 7,
   "id": "2df8fc54-e842-495d-a089-9ccd446fd4f6",
   "metadata": {},
   "outputs": [],
   "source": [
    "all_punctuation=string.punctuation\n"
   ]
  },
  {
   "cell_type": "code",
   "execution_count": 8,
   "id": "0ac4d7d5-30c0-43ec-b79b-47f3898ad0c8",
   "metadata": {},
   "outputs": [
    {
     "name": "stdout",
     "output_type": "stream",
     "text": [
      "!\"#$%&'()*+,-./:;<=>?@[\\]^_`{|}~\n"
     ]
    }
   ],
   "source": [
    "print(all_punctuation)\n"
   ]
  },
  {
   "cell_type": "code",
   "execution_count": 9,
   "id": "4c35d23f-eb0b-4297-af0f-e6c02de1ab4c",
   "metadata": {},
   "outputs": [
    {
     "name": "stdout",
     "output_type": "stream",
     "text": [
      "32\n"
     ]
    }
   ],
   "source": [
    "print(len(all_punctuation))\n"
   ]
  },
  {
   "cell_type": "code",
   "execution_count": 10,
   "id": "dd67c466-edf6-4387-a57b-e71b3b3748ce",
   "metadata": {},
   "outputs": [
    {
     "ename": "SyntaxError",
     "evalue": "invalid decimal literal (2294849240.py, line 1)",
     "output_type": "error",
     "traceback": [
      "\u001b[1;36m  Cell \u001b[1;32mIn[10], line 1\u001b[1;36m\u001b[0m\n\u001b[1;33m    2sun=10\u001b[0m\n\u001b[1;37m    ^\u001b[0m\n\u001b[1;31mSyntaxError\u001b[0m\u001b[1;31m:\u001b[0m invalid decimal literal\n"
     ]
    }
   ],
   "source": [
    "2sun=10\n"
   ]
  },
  {
   "cell_type": "code",
   "execution_count": 11,
   "id": "59420ca6-3834-4722-9107-f1a7fa52e334",
   "metadata": {},
   "outputs": [],
   "source": [
    "abc=10\n"
   ]
  },
  {
   "cell_type": "code",
   "execution_count": 12,
   "id": "453466d2-44b6-4d2a-ac93-029b065087c1",
   "metadata": {},
   "outputs": [
    {
     "name": "stdout",
     "output_type": "stream",
     "text": [
      "10\n"
     ]
    }
   ],
   "source": [
    "print(abc)\n"
   ]
  },
  {
   "cell_type": "code",
   "execution_count": 13,
   "id": "c258e1a5-167d-4adc-a3cd-b210ffdff41b",
   "metadata": {},
   "outputs": [
    {
     "ename": "SyntaxError",
     "evalue": "invalid syntax (818258703.py, line 1)",
     "output_type": "error",
     "traceback": [
      "\u001b[1;36m  Cell \u001b[1;32mIn[13], line 1\u001b[1;36m\u001b[0m\n\u001b[1;33m    t u=22\u001b[0m\n\u001b[1;37m      ^\u001b[0m\n\u001b[1;31mSyntaxError\u001b[0m\u001b[1;31m:\u001b[0m invalid syntax\n"
     ]
    }
   ],
   "source": [
    "t u=22"
   ]
  },
  {
   "cell_type": "code",
   "execution_count": 14,
   "id": "e1ab9484-a6b8-46e8-9a6d-c04f17656617",
   "metadata": {},
   "outputs": [
    {
     "ename": "SyntaxError",
     "evalue": "invalid syntax (1195562036.py, line 1)",
     "output_type": "error",
     "traceback": [
      "\u001b[1;36m  Cell \u001b[1;32mIn[14], line 1\u001b[1;36m\u001b[0m\n\u001b[1;33m    $=1\u001b[0m\n\u001b[1;37m    ^\u001b[0m\n\u001b[1;31mSyntaxError\u001b[0m\u001b[1;31m:\u001b[0m invalid syntax\n"
     ]
    }
   ],
   "source": [
    "$=1\n"
   ]
  },
  {
   "cell_type": "code",
   "execution_count": 16,
   "id": "279db864-9e53-4008-82de-48ab42dea981",
   "metadata": {
    "scrolled": true
   },
   "outputs": [
    {
     "ename": "SyntaxError",
     "evalue": "cannot assign to False (443824000.py, line 1)",
     "output_type": "error",
     "traceback": [
      "\u001b[1;36m  Cell \u001b[1;32mIn[16], line 1\u001b[1;36m\u001b[0m\n\u001b[1;33m    False=2\u001b[0m\n\u001b[1;37m    ^\u001b[0m\n\u001b[1;31mSyntaxError\u001b[0m\u001b[1;31m:\u001b[0m cannot assign to False\n"
     ]
    }
   ],
   "source": [
    "False=2\n"
   ]
  },
  {
   "cell_type": "code",
   "execution_count": null,
   "id": "97c66b6e-a284-48cd-9b12-626112e2546f",
   "metadata": {},
   "outputs": [],
   "source": [
    "literal\n",
    "\n",
    "\n",
    "numeric"
   ]
  },
  {
   "cell_type": "code",
   "execution_count": null,
   "id": "7d4302b2-7a01-43c9-af90-74f8bcbfbc03",
   "metadata": {},
   "outputs": [],
   "source": [
    "int"
   ]
  },
  {
   "cell_type": "code",
   "execution_count": 3,
   "id": "d8fbcec6-9ea6-483f-8ffe-cc68791404ff",
   "metadata": {},
   "outputs": [],
   "source": [
    "x=10\n"
   ]
  },
  {
   "cell_type": "code",
   "execution_count": 8,
   "id": "07931220-500e-4f21-a708-a89327a480fb",
   "metadata": {},
   "outputs": [
    {
     "name": "stdout",
     "output_type": "stream",
     "text": [
      "<class 'float'>\n"
     ]
    }
   ],
   "source": [
    "print(type(x))"
   ]
  },
  {
   "cell_type": "code",
   "execution_count": null,
   "id": "aae33c1f-52c4-40f2-ace3-ce76d281e033",
   "metadata": {},
   "outputs": [],
   "source": [
    "float"
   ]
  },
  {
   "cell_type": "code",
   "execution_count": 6,
   "id": "ec9a7929-91aa-421a-8e8a-32d4ab1870f8",
   "metadata": {},
   "outputs": [],
   "source": [
    "x=15.5"
   ]
  },
  {
   "cell_type": "code",
   "execution_count": 7,
   "id": "7c422a9a-aaf4-419f-8843-66ca1ee8fde2",
   "metadata": {},
   "outputs": [
    {
     "name": "stdout",
     "output_type": "stream",
     "text": [
      "<class 'float'>\n"
     ]
    }
   ],
   "source": [
    "print(type(x))"
   ]
  },
  {
   "cell_type": "code",
   "execution_count": null,
   "id": "4c628b1d-c837-4194-9e39-8a57a9ee6848",
   "metadata": {},
   "outputs": [],
   "source": [
    "complex\n"
   ]
  },
  {
   "cell_type": "code",
   "execution_count": 9,
   "id": "eceb2d4c-3865-4a72-8926-0a37a6bac7b7",
   "metadata": {},
   "outputs": [],
   "source": [
    "x=6+3j"
   ]
  },
  {
   "cell_type": "code",
   "execution_count": 10,
   "id": "e0832376-fb03-4d03-a290-310e4735c5d3",
   "metadata": {
    "collapsed": true,
    "jupyter": {
     "outputs_hidden": true
    }
   },
   "outputs": [
    {
     "name": "stdout",
     "output_type": "stream",
     "text": [
      "<class 'complex'>\n"
     ]
    }
   ],
   "source": [
    "print(type(x))"
   ]
  },
  {
   "cell_type": "markdown",
   "id": "ce3c76ad-b61c-47c1-88d8-d515fdfcac43",
   "metadata": {},
   "source": [
    "string"
   ]
  },
  {
   "cell_type": "code",
   "execution_count": 11,
   "id": "bf204dc0-653f-429e-ac6e-f9fd3422ca2f",
   "metadata": {},
   "outputs": [],
   "source": [
    "a='abhishek'"
   ]
  },
  {
   "cell_type": "code",
   "execution_count": 12,
   "id": "eb7b6064-d773-412f-b14e-20882d005d94",
   "metadata": {},
   "outputs": [
    {
     "name": "stdout",
     "output_type": "stream",
     "text": [
      "<class 'str'>\n"
     ]
    }
   ],
   "source": [
    "print(type(a))"
   ]
  },
  {
   "cell_type": "code",
   "execution_count": 18,
   "id": "16bad270-ee6f-4c4f-9b1a-d56e9ff018dc",
   "metadata": {},
   "outputs": [
    {
     "name": "stdout",
     "output_type": "stream",
     "text": [
      "<class 'str'>\n"
     ]
    }
   ],
   "source": [
    "b =\"abhishek\"\n",
    "print(type(b))"
   ]
  },
  {
   "cell_type": "code",
   "execution_count": 22,
   "id": "34e4fc31-72bf-45f2-9da9-15c04660ca39",
   "metadata": {},
   "outputs": [
    {
     "name": "stdout",
     "output_type": "stream",
     "text": [
      "<class 'str'>\n"
     ]
    }
   ],
   "source": [
    "c ='''this is\n",
    "            python \n",
    "                 code'''\n",
    "print(type(c))"
   ]
  },
  {
   "cell_type": "code",
   "execution_count": 25,
   "id": "47c424b5-dc50-4cb1-8fad-d0131e1b91d0",
   "metadata": {},
   "outputs": [
    {
     "name": "stdout",
     "output_type": "stream",
     "text": [
      "<class 'str'>\n",
      " this is a 'python language' classes\n"
     ]
    }
   ],
   "source": [
    "s1 = \" this is a 'python language' classes\"\n",
    "print(type(s1))\n",
    "print(s1)"
   ]
  },
  {
   "cell_type": "code",
   "execution_count": 26,
   "id": "dca24220-5813-461d-ae15-29fb1caea1cc",
   "metadata": {},
   "outputs": [
    {
     "name": "stdout",
     "output_type": "stream",
     "text": [
      "this is a 'python' and ''java'' classes\n"
     ]
    }
   ],
   "source": [
    "s2 = '''this is a 'python' and ''java'' classes'''\n",
    "print(s2)"
   ]
  }
 ],
 "metadata": {
  "kernelspec": {
   "display_name": "Python [conda env:base] *",
   "language": "python",
   "name": "conda-base-py"
  },
  "language_info": {
   "codemirror_mode": {
    "name": "ipython",
    "version": 3
   },
   "file_extension": ".py",
   "mimetype": "text/x-python",
   "name": "python",
   "nbconvert_exporter": "python",
   "pygments_lexer": "ipython3",
   "version": "3.12.7"
  }
 },
 "nbformat": 4,
 "nbformat_minor": 5
}
