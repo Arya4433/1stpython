{
 "cells": [
  {
   "cell_type": "code",
   "execution_count": 1,
   "id": "fae2e512-2ce6-42e0-9335-00fc63a01df8",
   "metadata": {},
   "outputs": [
    {
     "name": "stdout",
     "output_type": "stream",
     "text": [
      "0\n"
     ]
    }
   ],
   "source": [
    "x = 10\n",
    "y = 20\n",
    "print(x & y) \n"
   ]
  },
  {
   "cell_type": "code",
   "execution_count": 2,
   "id": "9c7502e2-18ef-46ec-b853-6686e9012dc3",
   "metadata": {},
   "outputs": [
    {
     "name": "stdout",
     "output_type": "stream",
     "text": [
      "30\n"
     ]
    }
   ],
   "source": [
    "x = 10\n",
    "y = 20\n",
    "print(x | y) "
   ]
  },
  {
   "cell_type": "code",
   "execution_count": 5,
   "id": "06e9e5cf-2df3-4912-ad7c-cfb6cb3d7ebb",
   "metadata": {},
   "outputs": [
    {
     "name": "stdout",
     "output_type": "stream",
     "text": [
      "40\n"
     ]
    }
   ],
   "source": [
    "x =10\n",
    "print( x<<2) "
   ]
  },
  {
   "cell_type": "code",
   "execution_count": null,
   "id": "633aa755-3530-4869-bbbf-ff087ffb7df7",
   "metadata": {},
   "outputs": [],
   "source": []
  }
 ],
 "metadata": {
  "kernelspec": {
   "display_name": "Python 3 (ipykernel)",
   "language": "python",
   "name": "python3"
  },
  "language_info": {
   "codemirror_mode": {
    "name": "ipython",
    "version": 3
   },
   "file_extension": ".py",
   "mimetype": "text/x-python",
   "name": "python",
   "nbconvert_exporter": "python",
   "pygments_lexer": "ipython3",
   "version": "3.12.7"
  }
 },
 "nbformat": 4,
 "nbformat_minor": 5
}
