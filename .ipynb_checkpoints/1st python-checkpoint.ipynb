{
 "cells": [
  {
   "cell_type": "code",
   "execution_count": 4,
   "id": "d04ad3f5-242d-4e59-b0ee-6a3218f6cc8e",
   "metadata": {},
   "outputs": [],
   "source": [
    "import keyword"
   ]
  },
  {
   "cell_type": "code",
   "execution_count": 6,
   "id": "aab4c804-9052-468d-9ba0-3ad7a6643b42",
   "metadata": {},
   "outputs": [],
   "source": [
    "x = keyword.kwlist\n"
   ]
  },
  {
   "cell_type": "code",
   "execution_count": 8,
   "id": "514f91bd-d86f-42d0-a0d0-d7550c884286",
   "metadata": {},
   "outputs": [
    {
     "name": "stdout",
     "output_type": "stream",
     "text": [
      "['False', 'None', 'True', 'and', 'as', 'assert', 'async', 'await', 'break', 'class', 'continue', 'def', 'del', 'elif', 'else', 'except', 'finally', 'for', 'from', 'global', 'if', 'import', 'in', 'is', 'lambda', 'nonlocal', 'not', 'or', 'pass', 'raise', 'return', 'try', 'while', 'with', 'yield']\n"
     ]
    }
   ],
   "source": [
    "print(x)"
   ]
  },
  {
   "cell_type": "code",
   "execution_count": 12,
   "id": "e2701bb5-c520-453f-8f9c-735a0dcce393",
   "metadata": {},
   "outputs": [
    {
     "name": "stdout",
     "output_type": "stream",
     "text": [
      "35\n"
     ]
    }
   ],
   "source": [
    " print(len(x))"
   ]
  },
  {
   "cell_type": "code",
   "execution_count": 1,
   "id": "2f7ca077-568c-4a55-8329-b69e3fe964da",
   "metadata": {},
   "outputs": [],
   "source": [
    "import string\n"
   ]
  },
  {
   "cell_type": "code",
   "execution_count": 7,
   "id": "2df8fc54-e842-495d-a089-9ccd446fd4f6",
   "metadata": {},
   "outputs": [],
   "source": [
    "all_punctuation=string.punctuation\n"
   ]
  },
  {
   "cell_type": "code",
   "execution_count": 8,
   "id": "0ac4d7d5-30c0-43ec-b79b-47f3898ad0c8",
   "metadata": {},
   "outputs": [
    {
     "name": "stdout",
     "output_type": "stream",
     "text": [
      "!\"#$%&'()*+,-./:;<=>?@[\\]^_`{|}~\n"
     ]
    }
   ],
   "source": [
    "print(all_punctuation)\n"
   ]
  },
  {
   "cell_type": "code",
   "execution_count": 9,
   "id": "4c35d23f-eb0b-4297-af0f-e6c02de1ab4c",
   "metadata": {},
   "outputs": [
    {
     "name": "stdout",
     "output_type": "stream",
     "text": [
      "32\n"
     ]
    }
   ],
   "source": [
    "print(len(all_punctuation))\n"
   ]
  },
  {
   "cell_type": "code",
   "execution_count": 10,
   "id": "dd67c466-edf6-4387-a57b-e71b3b3748ce",
   "metadata": {},
   "outputs": [
    {
     "ename": "SyntaxError",
     "evalue": "invalid decimal literal (2294849240.py, line 1)",
     "output_type": "error",
     "traceback": [
      "\u001b[1;36m  Cell \u001b[1;32mIn[10], line 1\u001b[1;36m\u001b[0m\n\u001b[1;33m    2sun=10\u001b[0m\n\u001b[1;37m    ^\u001b[0m\n\u001b[1;31mSyntaxError\u001b[0m\u001b[1;31m:\u001b[0m invalid decimal literal\n"
     ]
    }
   ],
   "source": [
    "2sun=10\n"
   ]
  },
  {
   "cell_type": "code",
   "execution_count": 11,
   "id": "59420ca6-3834-4722-9107-f1a7fa52e334",
   "metadata": {},
   "outputs": [],
   "source": [
    "abc=10\n"
   ]
  },
  {
   "cell_type": "code",
   "execution_count": 12,
   "id": "453466d2-44b6-4d2a-ac93-029b065087c1",
   "metadata": {},
   "outputs": [
    {
     "name": "stdout",
     "output_type": "stream",
     "text": [
      "10\n"
     ]
    }
   ],
   "source": [
    "print(abc)\n"
   ]
  },
  {
   "cell_type": "code",
   "execution_count": 13,
   "id": "c258e1a5-167d-4adc-a3cd-b210ffdff41b",
   "metadata": {},
   "outputs": [
    {
     "ename": "SyntaxError",
     "evalue": "invalid syntax (818258703.py, line 1)",
     "output_type": "error",
     "traceback": [
      "\u001b[1;36m  Cell \u001b[1;32mIn[13], line 1\u001b[1;36m\u001b[0m\n\u001b[1;33m    t u=22\u001b[0m\n\u001b[1;37m      ^\u001b[0m\n\u001b[1;31mSyntaxError\u001b[0m\u001b[1;31m:\u001b[0m invalid syntax\n"
     ]
    }
   ],
   "source": [
    "t u=22"
   ]
  },
  {
   "cell_type": "code",
   "execution_count": 14,
   "id": "e1ab9484-a6b8-46e8-9a6d-c04f17656617",
   "metadata": {},
   "outputs": [
    {
     "ename": "SyntaxError",
     "evalue": "invalid syntax (1195562036.py, line 1)",
     "output_type": "error",
     "traceback": [
      "\u001b[1;36m  Cell \u001b[1;32mIn[14], line 1\u001b[1;36m\u001b[0m\n\u001b[1;33m    $=1\u001b[0m\n\u001b[1;37m    ^\u001b[0m\n\u001b[1;31mSyntaxError\u001b[0m\u001b[1;31m:\u001b[0m invalid syntax\n"
     ]
    }
   ],
   "source": [
    "$=1\n"
   ]
  },
  {
   "cell_type": "code",
   "execution_count": 16,
   "id": "279db864-9e53-4008-82de-48ab42dea981",
   "metadata": {
    "scrolled": true
   },
   "outputs": [
    {
     "ename": "SyntaxError",
     "evalue": "cannot assign to False (443824000.py, line 1)",
     "output_type": "error",
     "traceback": [
      "\u001b[1;36m  Cell \u001b[1;32mIn[16], line 1\u001b[1;36m\u001b[0m\n\u001b[1;33m    False=2\u001b[0m\n\u001b[1;37m    ^\u001b[0m\n\u001b[1;31mSyntaxError\u001b[0m\u001b[1;31m:\u001b[0m cannot assign to False\n"
     ]
    }
   ],
   "source": [
    "False=2\n"
   ]
  },
  {
   "cell_type": "markdown",
   "id": "93a6a404-0548-4277-b52f-3106a0f6660d",
   "metadata": {},
   "source": [
    "# literals\n",
    "\n",
    "\n"
   ]
  },
  {
   "cell_type": "raw",
   "id": "c3b8d484-3dce-4461-99ab-9db2f3cda157",
   "metadata": {},
   "source": [
    "#numeric"
   ]
  },
  {
   "cell_type": "code",
   "execution_count": null,
   "id": "7d4302b2-7a01-43c9-af90-74f8bcbfbc03",
   "metadata": {},
   "outputs": [],
   "source": [
    "int"
   ]
  },
  {
   "cell_type": "code",
   "execution_count": 3,
   "id": "d8fbcec6-9ea6-483f-8ffe-cc68791404ff",
   "metadata": {},
   "outputs": [],
   "source": [
    "x=10\n"
   ]
  },
  {
   "cell_type": "code",
   "execution_count": 8,
   "id": "07931220-500e-4f21-a708-a89327a480fb",
   "metadata": {},
   "outputs": [
    {
     "name": "stdout",
     "output_type": "stream",
     "text": [
      "<class 'float'>\n"
     ]
    }
   ],
   "source": [
    "print(type(x))"
   ]
  },
  {
   "cell_type": "code",
   "execution_count": null,
   "id": "aae33c1f-52c4-40f2-ace3-ce76d281e033",
   "metadata": {},
   "outputs": [],
   "source": [
    "float"
   ]
  },
  {
   "cell_type": "code",
   "execution_count": 6,
   "id": "ec9a7929-91aa-421a-8e8a-32d4ab1870f8",
   "metadata": {},
   "outputs": [],
   "source": [
    "x=15.5"
   ]
  },
  {
   "cell_type": "code",
   "execution_count": 7,
   "id": "7c422a9a-aaf4-419f-8843-66ca1ee8fde2",
   "metadata": {},
   "outputs": [
    {
     "name": "stdout",
     "output_type": "stream",
     "text": [
      "<class 'float'>\n"
     ]
    }
   ],
   "source": [
    "print(type(x))"
   ]
  },
  {
   "cell_type": "code",
   "execution_count": null,
   "id": "4c628b1d-c837-4194-9e39-8a57a9ee6848",
   "metadata": {},
   "outputs": [],
   "source": [
    "complex\n"
   ]
  },
  {
   "cell_type": "code",
   "execution_count": 9,
   "id": "eceb2d4c-3865-4a72-8926-0a37a6bac7b7",
   "metadata": {},
   "outputs": [],
   "source": [
    "x=6+3j"
   ]
  },
  {
   "cell_type": "code",
   "execution_count": 10,
   "id": "e0832376-fb03-4d03-a290-310e4735c5d3",
   "metadata": {
    "collapsed": true,
    "jupyter": {
     "outputs_hidden": true
    }
   },
   "outputs": [
    {
     "name": "stdout",
     "output_type": "stream",
     "text": [
      "<class 'complex'>\n"
     ]
    }
   ],
   "source": [
    "print(type(x))"
   ]
  },
  {
   "cell_type": "markdown",
   "id": "ce3c76ad-b61c-47c1-88d8-d515fdfcac43",
   "metadata": {},
   "source": [
    "string"
   ]
  },
  {
   "cell_type": "code",
   "execution_count": 11,
   "id": "bf204dc0-653f-429e-ac6e-f9fd3422ca2f",
   "metadata": {},
   "outputs": [],
   "source": [
    "a='abhishek'"
   ]
  },
  {
   "cell_type": "code",
   "execution_count": 12,
   "id": "eb7b6064-d773-412f-b14e-20882d005d94",
   "metadata": {},
   "outputs": [
    {
     "name": "stdout",
     "output_type": "stream",
     "text": [
      "<class 'str'>\n"
     ]
    }
   ],
   "source": [
    "print(type(a))"
   ]
  },
  {
   "cell_type": "code",
   "execution_count": 18,
   "id": "16bad270-ee6f-4c4f-9b1a-d56e9ff018dc",
   "metadata": {},
   "outputs": [
    {
     "name": "stdout",
     "output_type": "stream",
     "text": [
      "<class 'str'>\n"
     ]
    }
   ],
   "source": [
    "b =\"abhishek\"\n",
    "print(type(b))"
   ]
  },
  {
   "cell_type": "code",
   "execution_count": 22,
   "id": "34e4fc31-72bf-45f2-9da9-15c04660ca39",
   "metadata": {},
   "outputs": [
    {
     "name": "stdout",
     "output_type": "stream",
     "text": [
      "<class 'str'>\n"
     ]
    }
   ],
   "source": [
    "c ='''this is\n",
    "            python \n",
    "                 code'''\n",
    "print(type(c))"
   ]
  },
  {
   "cell_type": "code",
   "execution_count": 25,
   "id": "47c424b5-dc50-4cb1-8fad-d0131e1b91d0",
   "metadata": {},
   "outputs": [
    {
     "name": "stdout",
     "output_type": "stream",
     "text": [
      "<class 'str'>\n",
      " this is a 'python language' classes\n"
     ]
    }
   ],
   "source": [
    "s1 = \" this is a 'python language' classes\"\n",
    "print(type(s1))\n",
    "print(s1)"
   ]
  },
  {
   "cell_type": "code",
   "execution_count": 26,
   "id": "dca24220-5813-461d-ae15-29fb1caea1cc",
   "metadata": {},
   "outputs": [
    {
     "name": "stdout",
     "output_type": "stream",
     "text": [
      "this is a 'python' and ''java'' classes\n"
     ]
    }
   ],
   "source": [
    "# s2 = '''this is a 'python' and ''java'' classes'''\n",
    "# print(s2)"
   ]
  },
  {
   "cell_type": "markdown",
   "id": "e89eec52-0222-47e8-8e11-aefc49ee4ccf",
   "metadata": {},
   "source": [
    "<h1/>list-------</h1>"
   ]
  },
  {
   "cell_type": "code",
   "execution_count": 1,
   "id": "5ae2368d-2f6b-40cd-a63b-0107e89b277e",
   "metadata": {},
   "outputs": [
    {
     "name": "stdout",
     "output_type": "stream",
     "text": [
      "<class 'list'>\n"
     ]
    }
   ],
   "source": [
    "l=[1,2,3,4,5,6]\n",
    "print(type(l))"
   ]
  },
  {
   "cell_type": "code",
   "execution_count": 8,
   "id": "f771e9a6-b748-44ac-8bca-d076879ffc8e",
   "metadata": {},
   "outputs": [
    {
     "name": "stdout",
     "output_type": "stream",
     "text": [
      "<class 'list'>\n",
      "[1, 2, 3, 4, 5, 6, 'python', 'java']\n"
     ]
    }
   ],
   "source": [
    "l1=[1,2,3,4,5,6,\"python\",\"java\"]\n",
    "print(type(l1))\n",
    "print(l1)\n"
   ]
  },
  {
   "cell_type": "markdown",
   "id": "61ab4068-47c6-450c-b057-39544c2216af",
   "metadata": {},
   "source": [
    "<h1/>tuple-----</h1>\n"
   ]
  },
  {
   "cell_type": "code",
   "execution_count": 9,
   "id": "368b0f93-9fab-4582-b76c-9e47b1043aad",
   "metadata": {
    "scrolled": true
   },
   "outputs": [
    {
     "name": "stdout",
     "output_type": "stream",
     "text": [
      "<class 'tuple'>\n"
     ]
    }
   ],
   "source": [
    "sl=(1,2,3,4,5,6)\n",
    "print(type(sl))"
   ]
  },
  {
   "cell_type": "code",
   "execution_count": 10,
   "id": "7b11f458-7e60-498d-811d-bcb301e98cd9",
   "metadata": {},
   "outputs": [
    {
     "name": "stdout",
     "output_type": "stream",
     "text": [
      "<class 'tuple'>\n",
      "(1, 2, 3, 4, 5, 6, 'python', 'java')\n"
     ]
    }
   ],
   "source": [
    "s21=(1,2,3,4,5,6,\"python\",\"java\")\n",
    "print(type(s21))\n",
    "print(s21)\n"
   ]
  },
  {
   "cell_type": "markdown",
   "id": "c0366d80-df9a-460b-878d-ecf3039751ae",
   "metadata": {},
   "source": [
    "<h1/>dictonary-----</h1>"
   ]
  },
  {
   "cell_type": "code",
   "execution_count": 18,
   "id": "a4065ab1-8bea-47a6-ac34-7f6fbbf7aab4",
   "metadata": {},
   "outputs": [
    {
     "name": "stdout",
     "output_type": "stream",
     "text": [
      "<class 'dict'>\n",
      "{'v1': 'abhi', 'v2': 'aman'}\n"
     ]
    }
   ],
   "source": [
    "fl={'v1':'abhi','v2':'aman'}\n",
    "print(type(fl))\n",
    "print(fl)"
   ]
  },
  {
   "cell_type": "markdown",
   "id": "1715cc7f-3459-4239-8898-29350b73f1ee",
   "metadata": {},
   "source": [
    "<h1/>set-----</h1>"
   ]
  },
  {
   "cell_type": "code",
   "execution_count": 3,
   "id": "04bca143-92f2-46e6-a551-51a7d7143cbd",
   "metadata": {},
   "outputs": [
    {
     "name": "stdout",
     "output_type": "stream",
     "text": [
      "<class 'set'>\n",
      "{'abhi', 'v1', 'v2amanv1abhi'}\n"
     ]
    }
   ],
   "source": [
    "f2={'v1','abhi','v2''aman''v1''abhi'}\n",
    "print(type(f2))\n",
    "print(f2)"
   ]
  },
  {
   "cell_type": "markdown",
   "id": "e6f9c2b5-16b7-44e2-9460-92aacf7231e2",
   "metadata": {},
   "source": [
    "<h1/>frozen set -----------</h1>\n"
   ]
  },
  {
   "cell_type": "code",
   "execution_count": 9,
   "id": "8e45bcb1-8766-43e5-be10-0c8a440300e1",
   "metadata": {},
   "outputs": [
    {
     "name": "stdout",
     "output_type": "stream",
     "text": [
      "frozenset({40, 10, 20, 30})\n",
      "<class 'frozenset'>\n",
      "frozenset({1, 2, 3, 4, 5, 6, 'python', 'java'})\n",
      "<class 'frozenset'>\n",
      "frozenset({'t', 'y', 'p', 'h', 'n', 'o'})\n",
      "<class 'frozenset'>\n"
     ]
    }
   ],
   "source": [
    " l= [10,20,30,40]\n",
    " t= (1,2,3,4,5,6,\"python\",\"java\")\n",
    " s= \"python\"\n",
    "fs1=frozenset (l)\n",
    "fs2=frozenset (t)\n",
    "fs3=frozenset (s)\n",
    "print (fs1)\n",
    "print(type(fs1))\n",
    "print (fs2)\n",
    "print(type(fs2))\n",
    "print (fs3)\n",
    "print(type(fs3))"
   ]
  },
  {
   "cell_type": "markdown",
   "id": "80ec68de-b688-47e6-94ad-0ce2225eaac3",
   "metadata": {},
   "source": [
    "# BOOLEAN---"
   ]
  },
  {
   "cell_type": "code",
   "execution_count": 11,
   "id": "19f8dec9-6907-4baf-a221-6d79dc280801",
   "metadata": {},
   "outputs": [
    {
     "name": "stdout",
     "output_type": "stream",
     "text": [
      "True\n",
      "<class 'bool'>\n"
     ]
    }
   ],
   "source": [
    "x= True\n",
    "print(x)\n",
    "print(type(x))"
   ]
  },
  {
   "cell_type": "code",
   "execution_count": 14,
   "id": "482deea5-2d0e-49ba-87e0-d5967c460e1e",
   "metadata": {},
   "outputs": [
    {
     "name": "stdout",
     "output_type": "stream",
     "text": [
      "False\n",
      "<class 'bool'>\n"
     ]
    }
   ],
   "source": [
    "x= False\n",
    "print(x)\n",
    "print(type(x))"
   ]
  },
  {
   "cell_type": "markdown",
   "id": "b5d82d73-3257-4f65-9d8d-55d4e7a3f189",
   "metadata": {},
   "source": [
    "# operator----"
   ]
  },
  {
   "cell_type": "markdown",
   "id": "83ca614e-3f91-487c-aaf4-b5ead62360c1",
   "metadata": {},
   "source": [
    "# 1)arthmetic-(+,-,*,/,%(modules),//(floor),**(power) or sat that exponantial)"
   ]
  },
  {
   "cell_type": "code",
   "execution_count": 16,
   "id": "3c73b6e9-f53a-481c-94b6-f41212492507",
   "metadata": {},
   "outputs": [
    {
     "name": "stdout",
     "output_type": "stream",
     "text": [
      "<class 'int'>\n",
      "50\n",
      "-10\n",
      "<class 'int'>\n",
      "600\n",
      "<class 'int'>\n",
      "0.6666666666666666\n",
      "<class 'float'>\n",
      "20\n",
      "<class 'int'>\n",
      "0\n",
      "<class 'int'>\n",
      "1073741824000000000000000000000000000000\n",
      "<class 'int'>\n"
     ]
    }
   ],
   "source": [
    "x=20\n",
    "y=30\n",
    "z=x+y\n",
    "print(type(z))\n",
    "print(z)\n",
    "z=x-y\n",
    "print(z)\n",
    "print(type(z))\n",
    "z=x*y\n",
    "print(z)\n",
    "print(type(z))\n",
    "z=x/y\n",
    "print(z)\n",
    "print(type(z))\n",
    "z=x%y\n",
    "print(z)\n",
    "print(type(z))\n",
    "z=x//y\n",
    "print(z)\n",
    "print(type(z))\n",
    "z=x**y\n",
    "print(z)\n",
    "print(type(z))"
   ]
  },
  {
   "cell_type": "markdown",
   "id": "cfc62159-17ce-4308-a602-8879d29ffe61",
   "metadata": {},
   "source": [
    "# indexing"
   ]
  },
  {
   "cell_type": "code",
   "execution_count": 4,
   "id": "177e2c28-c91b-453d-b04a-147977b9e595",
   "metadata": {},
   "outputs": [
    {
     "name": "stdout",
     "output_type": "stream",
     "text": [
      "1\n"
     ]
    }
   ],
   "source": [
    "s='abhi'\n",
    "print(s.index('b'))"
   ]
  },
  {
   "cell_type": "code",
   "execution_count": 5,
   "id": "2892a67d-4ce7-4e19-8496-23f1b6d85152",
   "metadata": {},
   "outputs": [
    {
     "name": "stdout",
     "output_type": "stream",
     "text": [
      "1\n"
     ]
    }
   ],
   "source": [
    "s=(1,2,3,4,5,6)\n",
    "print(s.index(2))"
   ]
  },
  {
   "cell_type": "code",
   "execution_count": 8,
   "id": "b5fc3c1b-19d2-42ed-9753-b20f1643606c",
   "metadata": {},
   "outputs": [
    {
     "name": "stdout",
     "output_type": "stream",
     "text": [
      "6\n"
     ]
    }
   ],
   "source": [
    "s=[1,2,3,4,5,6,'python']\n",
    "print(s.index('python'))"
   ]
  },
  {
   "cell_type": "code",
   "execution_count": 9,
   "id": "e78e7626-08db-486d-909c-26ef4faa2480",
   "metadata": {},
   "outputs": [
    {
     "ename": "ValueError",
     "evalue": "'ab' is not in list",
     "output_type": "error",
     "traceback": [
      "\u001b[1;31m---------------------------------------------------------------------------\u001b[0m",
      "\u001b[1;31mValueError\u001b[0m                                Traceback (most recent call last)",
      "Cell \u001b[1;32mIn[9], line 2\u001b[0m\n\u001b[0;32m      1\u001b[0m s\u001b[38;5;241m=\u001b[39m[\u001b[38;5;241m1\u001b[39m,\u001b[38;5;241m2\u001b[39m,\u001b[38;5;241m3\u001b[39m,\u001b[38;5;241m4\u001b[39m,\u001b[38;5;241m5\u001b[39m,\u001b[38;5;241m6\u001b[39m,\u001b[38;5;124m'\u001b[39m\u001b[38;5;124mpython\u001b[39m\u001b[38;5;124m'\u001b[39m]\n\u001b[1;32m----> 2\u001b[0m \u001b[38;5;28mprint\u001b[39m(s\u001b[38;5;241m.\u001b[39mindex(\u001b[38;5;124m'\u001b[39m\u001b[38;5;124mab\u001b[39m\u001b[38;5;124m'\u001b[39m))\n",
      "\u001b[1;31mValueError\u001b[0m: 'ab' is not in list"
     ]
    }
   ],
   "source": [
    "s=[1,2,3,4,5,6,'python']\n",
    "print(s.index('ab'))"
   ]
  },
  {
   "cell_type": "code",
   "execution_count": 10,
   "id": "4e397c16-6596-498a-a3f0-8e77b975cbae",
   "metadata": {},
   "outputs": [
    {
     "ename": "ValueError",
     "evalue": "'6' is not in list",
     "output_type": "error",
     "traceback": [
      "\u001b[1;31m---------------------------------------------------------------------------\u001b[0m",
      "\u001b[1;31mValueError\u001b[0m                                Traceback (most recent call last)",
      "Cell \u001b[1;32mIn[10], line 2\u001b[0m\n\u001b[0;32m      1\u001b[0m s\u001b[38;5;241m=\u001b[39m[\u001b[38;5;241m1\u001b[39m,\u001b[38;5;241m2\u001b[39m,\u001b[38;5;241m3\u001b[39m,\u001b[38;5;241m4\u001b[39m,\u001b[38;5;241m5\u001b[39m,\u001b[38;5;241m6\u001b[39m,\u001b[38;5;124m'\u001b[39m\u001b[38;5;124mpython\u001b[39m\u001b[38;5;124m'\u001b[39m]\n\u001b[1;32m----> 2\u001b[0m \u001b[38;5;28mprint\u001b[39m(s\u001b[38;5;241m.\u001b[39mindex(\u001b[38;5;124m'\u001b[39m\u001b[38;5;124m6\u001b[39m\u001b[38;5;124m'\u001b[39m))\n",
      "\u001b[1;31mValueError\u001b[0m: '6' is not in list"
     ]
    }
   ],
   "source": [
    "s=[1,2,3,4,5,6,'python']\n",
    "print(s.index('6'))"
   ]
  },
  {
   "cell_type": "code",
   "execution_count": 11,
   "id": "9f6acfae-ea3f-4cf9-ae79-efebb9925a99",
   "metadata": {},
   "outputs": [
    {
     "name": "stdout",
     "output_type": "stream",
     "text": [
      "5\n"
     ]
    }
   ],
   "source": [
    " s=[1,2,3,4,5,6,'python']\n",
    "print(s.index(6,5,7))"
   ]
  },
  {
   "cell_type": "code",
   "execution_count": 26,
   "id": "bf791194-e67c-4d8b-8bb9-d9c279e243c8",
   "metadata": {},
   "outputs": [],
   "source": [
    "s='I LOVE PYTHON '"
   ]
  },
  {
   "cell_type": "code",
   "execution_count": 27,
   "id": "85ab8d04-ab17-4d95-908f-9b28386e5b21",
   "metadata": {},
   "outputs": [
    {
     "name": "stdout",
     "output_type": "stream",
     "text": [
      "11\n"
     ]
    }
   ],
   "source": [
    "print(s.index('O',5,13))"
   ]
  },
  {
   "cell_type": "code",
   "execution_count": 29,
   "id": "015d05a5-efa8-434b-9e8d-b9e830b9c5cf",
   "metadata": {},
   "outputs": [
    {
     "ename": "ValueError",
     "evalue": "-2 is not in list",
     "output_type": "error",
     "traceback": [
      "\u001b[1;31m---------------------------------------------------------------------------\u001b[0m",
      "\u001b[1;31mValueError\u001b[0m                                Traceback (most recent call last)",
      "Cell \u001b[1;32mIn[29], line 2\u001b[0m\n\u001b[0;32m      1\u001b[0m s\u001b[38;5;241m=\u001b[39m[\u001b[38;5;241m1\u001b[39m,\u001b[38;5;241m2\u001b[39m,\u001b[38;5;241m3\u001b[39m,\u001b[38;5;241m4\u001b[39m,\u001b[38;5;241m5\u001b[39m,\u001b[38;5;241m6\u001b[39m,\u001b[38;5;124m'\u001b[39m\u001b[38;5;124mpython\u001b[39m\u001b[38;5;124m'\u001b[39m]\n\u001b[1;32m----> 2\u001b[0m \u001b[38;5;28mprint\u001b[39m(s\u001b[38;5;241m.\u001b[39mindex(\u001b[38;5;241m-\u001b[39m\u001b[38;5;241m2\u001b[39m))\n",
      "\u001b[1;31mValueError\u001b[0m: -2 is not in list"
     ]
    }
   ],
   "source": [
    " s=[1,2,3,4,5,6,'python']\n",
    "print(s.index(-2))"
   ]
  },
  {
   "cell_type": "code",
   "execution_count": 37,
   "id": "eb395856-c865-44c5-9a9b-f0e912227a02",
   "metadata": {},
   "outputs": [
    {
     "name": "stdout",
     "output_type": "stream",
     "text": [
      "b\n"
     ]
    }
   ],
   "source": [
    "s='abhi'\n",
    "print(s[-3])"
   ]
  },
  {
   "cell_type": "code",
   "execution_count": 15,
   "id": "c7de7454-96f2-481d-80d1-49bcadb7cb37",
   "metadata": {},
   "outputs": [
    {
     "name": "stdout",
     "output_type": "stream",
     "text": [
      "hello world\n",
      "welcome\n",
      "hello world\n"
     ]
    }
   ],
   "source": [
    "def fun_name():\n",
    "    print (\"hello world\")\n",
    "fun_name()\n",
    "print (\"welcome\")\n",
    "fun_name()\n"
   ]
  },
  {
   "cell_type": "code",
   "execution_count": 17,
   "id": "a586be3d-c22f-4701-8598-5c5e3710eba6",
   "metadata": {},
   "outputs": [
    {
     "name": "stdout",
     "output_type": "stream",
     "text": [
      "fun_name\n",
      "hello world\n",
      "None\n"
     ]
    }
   ],
   "source": [
    "def fun_name():\n",
    "    print (\"hello world\")\n",
    "print (\"fun_name\")\n",
    "x=fun_name()\n",
    "print(x)"
   ]
  },
  {
   "cell_type": "code",
   "execution_count": 18,
   "id": "c1e42d48-e765-40f8-a829-8449e6fa1195",
   "metadata": {},
   "outputs": [
    {
     "name": "stdout",
     "output_type": "stream",
     "text": [
      "fun_name\n",
      "hello\n"
     ]
    }
   ],
   "source": [
    "def fun_name():\n",
    "    return'hello'\n",
    "print (\"fun_name\")\n",
    "x=fun_name()\n",
    "print(x)"
   ]
  },
  {
   "cell_type": "code",
   "execution_count": 19,
   "id": "77043bf4-f2ea-4866-b9a0-fdc95e07f963",
   "metadata": {},
   "outputs": [
    {
     "name": "stdout",
     "output_type": "stream",
     "text": [
      "fun_name\n",
      "hello\n",
      "hellohello\n"
     ]
    }
   ],
   "source": [
    "def fun_name():\n",
    "    return'hello'\n",
    "print (\"fun_name\")\n",
    "x=fun_name()\n",
    "print(x)\n",
    "print (x*2)"
   ]
  },
  {
   "cell_type": "code",
   "execution_count": 23,
   "id": "1fcac1e9-2ad1-4f8a-b1a7-12e020d5b13f",
   "metadata": {},
   "outputs": [
    {
     "name": "stdin",
     "output_type": "stream",
     "text": [
      "value 1\n",
      "value 2\n"
     ]
    },
    {
     "name": "stdout",
     "output_type": "stream",
     "text": [
      "3\n"
     ]
    }
   ],
   "source": [
    "def add(x,y):\n",
    "    z=x+y\n",
    "    return z\n",
    "a=int(input(\"value\"))\n",
    "b=int(input(\"value\"))\n",
    "addition=add(a,b)\n",
    "print(addition)"
   ]
  },
  {
   "cell_type": "code",
   "execution_count": 36,
   "id": "44f8d99e-5d89-4f05-809a-d7ecbcff820d",
   "metadata": {},
   "outputs": [
    {
     "name": "stdout",
     "output_type": "stream",
     "text": [
      "30\n"
     ]
    }
   ],
   "source": [
    "def add(x,y):\n",
    "    z=x+y\n",
    "    return z\n",
    "a=20\n",
    "b=10\n",
    "addition=add(y=a,x=b)\n",
    "print (addition)"
   ]
  },
  {
   "cell_type": "code",
   "execution_count": 31,
   "id": "04fcbdba-bed2-409a-ab89-0a307a478a81",
   "metadata": {},
   "outputs": [
    {
     "name": "stdin",
     "output_type": "stream",
     "text": [
      "integer 1\n"
     ]
    },
    {
     "name": "stdout",
     "output_type": "stream",
     "text": [
      "odd\n"
     ]
    }
   ],
   "source": [
    "def even(n):\n",
    "    if n/2==0:\n",
    "        print(\"even\")\n",
    "        \n",
    "    else:\n",
    "        print(\"odd\")\n",
    "\n",
    "n=int(input(\"integer\"))\n",
    "even(n)"
   ]
  },
  {
   "cell_type": "code",
   "execution_count": 6,
   "id": "18d1f842-6530-4763-84f0-1884715940ff",
   "metadata": {
    "scrolled": true
   },
   "outputs": [
    {
     "ename": "IndentationError",
     "evalue": "expected an indented block after 'if' statement on line 4 (3891401690.py, line 5)",
     "output_type": "error",
     "traceback": [
      "\u001b[1;36m  Cell \u001b[1;32mIn[6], line 5\u001b[1;36m\u001b[0m\n\u001b[1;33m    largest= a\u001b[0m\n\u001b[1;37m    ^\u001b[0m\n\u001b[1;31mIndentationError\u001b[0m\u001b[1;31m:\u001b[0m expected an indented block after 'if' statement on line 4\n"
     ]
    }
   ],
   "source": [
    "a=int(input(\"enter the no\"))\n",
    "b=int(input(\"enter the no\"))\n",
    "c=int(input(\"enter the no\"))\n",
    "if (a>=b) and (a>=c):\n",
    "largest= a\n",
    "elif(b>=a) and (b>=c):\n",
    "largest = b\n",
    "else:\n",
    "    largest = c\n",
    "\n",
    "print(\"The largest number is:\", largest)"
   ]
  },
  {
   "cell_type": "markdown",
   "id": "8209e462-afae-4dff-8a90-ae2d0c503b32",
   "metadata": {},
   "source": [
    "# conditional statement question\n"
   ]
  },
  {
   "cell_type": "markdown",
   "id": "c1ea40cf-c901-4259-961a-d4062a14004b",
   "metadata": {},
   "source": [
    "<h3> Q1) write a program to find largest number among three numbers in python</h3>"
   ]
  },
  {
   "cell_type": "code",
   "execution_count": 8,
   "id": "eae30bcf-0111-489b-9b68-b0d65e28bcfb",
   "metadata": {},
   "outputs": [
    {
     "name": "stdin",
     "output_type": "stream",
     "text": [
      "Enter the first number:  1\n",
      "Enter the second number:  3\n",
      "Enter the third number:  4\n"
     ]
    },
    {
     "name": "stdout",
     "output_type": "stream",
     "text": [
      "The largest number is: 4\n"
     ]
    }
   ],
   "source": [
    "\n",
    "num1 = int(input(\"Enter the first number: \"))\n",
    "num2 = int(input(\"Enter the second number: \"))\n",
    "num3 = int(input(\"Enter the third number: \"))\n",
    "\n",
    "if (num1 >= num2) and (num1 >= num3):\n",
    "    largest = num1\n",
    "elif (num2 >= num1) and (num2 >= num3):\n",
    "    largest = num2\n",
    "else:\n",
    "    largest = num3\n",
    "\n",
    "print(\"The largest number is:\", largest)"
   ]
  },
  {
   "cell_type": "code",
   "execution_count": 13,
   "id": "c787173e-d997-4146-87e6-da99f4aae1b4",
   "metadata": {},
   "outputs": [
    {
     "name": "stdin",
     "output_type": "stream",
     "text": [
      "Enter the first number:  2\n",
      "Enter the second number:  3\n",
      "Enter the third number:  4\n"
     ]
    },
    {
     "name": "stdout",
     "output_type": "stream",
     "text": [
      "The largest number is: 4\n"
     ]
    }
   ],
   "source": [
    "\n",
    "num1 = int(input(\"Enter the first number: \"))\n",
    "num2 = int(input(\"Enter the second number: \"))\n",
    "num3 = int(input(\"Enter the third number: \"))\n",
    "\n",
    "if (num1 > num2 >num3):\n",
    " print(\"The largest number is a\")\n",
    "elif (num2> num1>num3):\n",
    "  print(\"The largest number is a\")\n",
    "else:\n",
    "    largest = num3\n",
    "\n",
    "print(\"The largest number is:\", largest)"
   ]
  },
  {
   "cell_type": "code",
   "execution_count": 12,
   "id": "e75d02ea-1248-4399-a691-6eeefb03f05b",
   "metadata": {},
   "outputs": [
    {
     "name": "stdin",
     "output_type": "stream",
     "text": [
      "Enter the first number:  2\n",
      "Enter the second number:  3\n",
      "Enter the third number:  4\n"
     ]
    },
    {
     "name": "stdout",
     "output_type": "stream",
     "text": [
      "The largest number is: 4\n"
     ]
    }
   ],
   "source": [
    "\n",
    "num1 = int(input(\"Enter the first number: \"))\n",
    "num2 = int(input(\"Enter the second number: \"))\n",
    "num3 = int(input(\"Enter the third number: \"))\n",
    "largest = max(num1, num2, num3)\n",
    "\n",
    "print(\"The largest number is:\", largest)"
   ]
  },
  {
   "cell_type": "markdown",
   "id": "e67bb70f-2afb-497d-ab15-4dc62d3b36b4",
   "metadata": {},
   "source": [
    "<h3>Q2) Write a program that takes an integer as input and prints \"Positive\" if the number is greater than 0, and \"Negative or Zero\" otherwise.</h3>"
   ]
  },
  {
   "cell_type": "code",
   "execution_count": null,
   "id": "d673e8a4-b1e2-42b8-9c2f-2e50ab8e54f0",
   "metadata": {},
   "outputs": [],
   "source": [
    "    num1 = int(input(\"Enter an integer: \"))\n",
    "    if num > 0:\n",
    "        print(\"Positive\")\n",
    "    else:\n",
    "        print(\"Negative or Zero\")"
   ]
  },
  {
   "cell_type": "markdown",
   "id": "d4539dad-1df3-41bd-9a66-8c344da4b9a4",
   "metadata": {},
   "source": [
    "<h3>Write a program to fund withdrawal and to show case avaliable fund</h3>"
   ]
  },
  {
   "cell_type": "code",
   "execution_count": 54,
   "id": "5ef9bff8-e90d-49c3-84f9-a09f07d82cf5",
   "metadata": {},
   "outputs": [
    {
     "name": "stdin",
     "output_type": "stream",
     "text": [
      "Enter the AMOUNT at account:  80000\n",
      "Enter the withdrawal AMOUNT AT ACCOUNT:  40000\n"
     ]
    },
    {
     "name": "stdout",
     "output_type": "stream",
     "text": [
      "transaction done\n",
      "available balace is 40000.0\n"
     ]
    }
   ],
   "source": [
    "acc_fund = float(input(\"Enter the AMOUNT at account: \"))\n",
    "withdrawal = float(input(\"Enter the withdrawal AMOUNT AT ACCOUNT: \"))\n",
    "if(withdrawal<=acc_fund):\n",
    "   print(\"transaction done\")\n",
    "   av_balance=acc_fund-withdrawal\n",
    "   print(\"available balace is\",av_balance)\n",
    "else:\n",
    "   print(\"insufficient fund\")"
   ]
  },
  {
   "cell_type": "code",
   "execution_count": 7,
   "id": "91ca054d-3b03-4476-8be4-25c781666f8d",
   "metadata": {},
   "outputs": [
    {
     "name": "stdin",
     "output_type": "stream",
     "text": [
      "enter the age 49\n",
      "yes or no YES\n"
     ]
    },
    {
     "name": "stdout",
     "output_type": "stream",
     "text": [
      "pay 8$\n"
     ]
    }
   ],
   "source": [
    "##write a program that determine the price of movie ticketbased on age or membership status \n",
    "##if the person is under 12 the ticket is 5$\n",
    "##if the person is 60 or above the ticket is 7$\n",
    "##for age b/w 12 and 59  if they are the menbership ticket is 8$ or not a meber ticket is 10$\n",
    "\n",
    "\n",
    "age = int (input(\"enter the age\"))\n",
    "membership = input(\"yes or no\").lower()\n",
    "if age <= 12:\n",
    "    print(\"pay a 5$\")\n",
    "elif age>12 and age<59:\n",
    "    if membership == \"yes\":\n",
    "         print (\"pay 8$\")\n",
    "    else :\n",
    "        print(\"pay 10$\")\n",
    "else:\n",
    "    if age<60:\n",
    "        print (\"pay 7$\")\n",
    "        \n",
    "        \n",
    "   \n"
   ]
  },
  {
   "cell_type": "code",
   "execution_count": 11,
   "id": "275ef9d9-db3c-4b90-a5f4-6cc06f4cb4f1",
   "metadata": {},
   "outputs": [
    {
     "name": "stdin",
     "output_type": "stream",
     "text": [
      "enter the no 5\n",
      "enter the temp 30\n"
     ]
    },
    {
     "name": "stdout",
     "output_type": "stream",
     "text": [
      "summer\n",
      "hot\n"
     ]
    }
   ],
   "source": [
    "##WRITE A PROHRAM THE TAKE THE NO OF MONTH 1 TO 12 AND TEMPERATURE AS INPUT ACCORDING TO A MONTH PRINT THE SEASON WINTER ,SUMMER ,SPRING,autoum \n",
    "##FOR WINTER IF THE TEMPERATURE IS LESS 10DEGREE CELCIUS  PRINT FREEZING\n",
    "##FOR SPRING OR SUMMER  IF THE TEMPERATURE IS GREATER 30DEGREE CELCIUS  PRINT HOT\n",
    "##IF THE MONTH IS NOT BETWEEN 1 AND 12 PRINT INVALID\n",
    "\n",
    "month=int(input(\"enter the no\"))\n",
    "temperature=int(input(\"enter the temp\"))\n",
    "if month >=1 and month <=3 :\n",
    "    print(\"winter\")\n",
    "    if temperature <=10:\n",
    "        print(\"freezing\")\n",
    "elif month >=4 and month <=6:\n",
    "    print (\"summer\")\n",
    "    if temperature >=30:\n",
    "        print(\"hot\")\n",
    "elif month >=7 and month <=9:\n",
    "    print (\"spring\")\n",
    "    if temperature >=30:\n",
    "        print(\"hot\")\n",
    "elif month >=10 and month <=12:\n",
    "    print (\"autoum\")\n",
    "else :\n",
    "    print (\"invalid no\")\n",
    "\n"
   ]
  },
  {
   "cell_type": "code",
   "execution_count": null,
   "id": "06567771-cc22-4c2a-86cb-9ac5d24a974b",
   "metadata": {},
   "outputs": [],
   "source": [
    "##write the progeam the calculate bmi using the person weight in kg and hight in metre \n",
    "## if the bmi is less then 18.5 print under weight further if the bmi is less than 15 also print seviorly underweight \n",
    "## if the bmi is b/w 18.5 to 25 print normal.\n",
    "## if the bmi is above 25 print overweight or obus\n",
    "## BMI = WEIGHT IN KG/ 9HEIGHT IN METER )**2\n",
    "\n",
    "weight=float(input(\"enter the weight\"))\n",
    "height=float(input(\"enter the height\"))\n",
    "bmi = weight/(height)**2\n",
    "if bmi <= 18.5:\n",
    "    print(\"underweight\",bmi)\n",
    "    if bmi<=15:\n",
    "        print(\"seviorly underweight\")\n",
    "elif 18.5 <bmi<25:\n",
    "    print(\"normal\")\n",
    "elif bmi>=25:\n",
    "\n",
    "    print(\"overweight\")\n",
    "else:\n",
    "    print(\"invalid\")\n",
    "        \n"
   ]
  },
  {
   "cell_type": "code",
   "execution_count": 13,
   "id": "be95eb0d-7b8a-4d77-8a6f-a258f3d4a3fb",
   "metadata": {},
   "outputs": [
    {
     "name": "stderr",
     "output_type": "stream",
     "text": [
      "<>:2: SyntaxWarning: invalid decimal literal\n",
      "<>:2: SyntaxWarning: invalid decimal literal\n",
      "C:\\Users\\HP\\AppData\\Local\\Temp\\ipykernel_17552\\1243035726.py:2: SyntaxWarning: invalid decimal literal\n",
      "  if (year% 4 == 0and year% 100 != 0) or (year% 400== 0):\n"
     ]
    },
    {
     "name": "stdin",
     "output_type": "stream",
     "text": [
      "enter the year 1600\n"
     ]
    },
    {
     "name": "stdout",
     "output_type": "stream",
     "text": [
      "leap year\n"
     ]
    }
   ],
   "source": [
    "year =int(input(\"enter the year\"))\n",
    "if (year% 4 == 0and year% 100 != 0) or (year% 400== 0):\n",
    "    print(\"leap year\")\n",
    "else:\n",
    "    print(\"not a leap year\")"
   ]
  },
  {
   "cell_type": "code",
   "execution_count": null,
   "id": "e9b864b9-dc22-4b99-b123-b18901094b96",
   "metadata": {},
   "outputs": [],
   "source": []
  },
  {
   "cell_type": "code",
   "execution_count": null,
   "id": "2b6c21cd-e13f-4c64-a8c4-a82d8431c63c",
   "metadata": {},
   "outputs": [],
   "source": []
  }
 ],
 "metadata": {
  "kernelspec": {
   "display_name": "Python [conda env:base] *",
   "language": "python",
   "name": "conda-base-py"
  },
  "language_info": {
   "codemirror_mode": {
    "name": "ipython",
    "version": 3
   },
   "file_extension": ".py",
   "mimetype": "text/x-python",
   "name": "python",
   "nbconvert_exporter": "python",
   "pygments_lexer": "ipython3",
   "version": "3.12.7"
  }
 },
 "nbformat": 4,
 "nbformat_minor": 5
}
