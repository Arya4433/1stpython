{
 "cells": [
  {
   "cell_type": "code",
   "execution_count": null,
   "id": "bd3928be-6b51-4768-8182-4f95b3b6f8d7",
   "metadata": {},
   "outputs": [],
   "source": []
  }
 ],
 "metadata": {
  "kernelspec": {
   "display_name": "",
   "name": ""
  },
  "language_info": {
   "name": ""
  }
 },
 "nbformat": 4,
 "nbformat_minor": 5
}
