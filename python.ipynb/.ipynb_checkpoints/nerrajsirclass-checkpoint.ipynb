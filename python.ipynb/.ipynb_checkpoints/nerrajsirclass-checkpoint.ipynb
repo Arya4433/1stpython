{
 "cells": [
  {
   "cell_type": "code",
   "execution_count": 1,
   "id": "18dfb660-1ae8-4811-8a66-607ba8b0a50c",
   "metadata": {},
   "outputs": [
    {
     "name": "stdout",
     "output_type": "stream",
     "text": [
      "hello...\n"
     ]
    }
   ],
   "source": [
    "print(\"hello...\")"
   ]
  },
  {
   "cell_type": "code",
   "execution_count": null,
   "id": "7d25bb4c-52c9-4d18-a320-ba823d1b5fca",
   "metadata": {},
   "outputs": [],
   "source": []
  },
  {
   "cell_type": "raw",
   "id": "6f18d595-4323-454a-a318-8cdd0e545146",
   "metadata": {},
   "source": [
    "1. ADVANTAGE \n",
    "2. DISADVANTAGE"
   ]
  },
  {
   "cell_type": "markdown",
   "id": "1e6d2278-ccf4-43f8-b63e-61a7700140cd",
   "metadata": {},
   "source": [
    "<H2 STYLE:COLOR:BLUE>ABHISHEK</H2>"
   ]
  },
  {
   "cell_type": "markdown",
   "id": "5deabbe7-1a3e-416c-ae42-cca5a91e0fcf",
   "metadata": {},
   "source": []
  },
  {
   "cell_type": "markdown",
   "id": "c370eeb5-bb95-4fc5-b157-f073e1eae8a9",
   "metadata": {},
   "source": [
    "# PYTHON"
   ]
  },
  {
   "cell_type": "markdown",
   "id": "4e72a456-e639-4c0a-80fa-238d8591eb6d",
   "metadata": {},
   "source": [
    "<H3>TOKEN</H3>"
   ]
  },
  {
   "cell_type": "raw",
   "id": "f2d32c23-7503-4804-80d6-c9acc46905bd",
   "metadata": {},
   "source": [
    "1)KEYWORD\n",
    "2)OPERATOR\n",
    "3)LITERAL\n",
    "4)IDENTIFER\n",
    "5)PUNCHUATION"
   ]
  },
  {
   "cell_type": "markdown",
   "id": "2505fd03-cc5f-47d1-8f30-787c0af3cbe6",
   "metadata": {},
   "source": [
    "<H4>KEYWORD</H4> "
   ]
  },
  {
   "cell_type": "code",
   "execution_count": 6,
   "id": "2e92d6cd-1096-4ed0-8ef7-03dfe0f43a31",
   "metadata": {
    "scrolled": true
   },
   "outputs": [
    {
     "name": "stdout",
     "output_type": "stream",
     "text": [
      "['False', 'None', 'True', 'and', 'as', 'assert', 'async', 'await', 'break', 'class', 'continue', 'def', 'del', 'elif', 'else', 'except', 'finally', 'for', 'from', 'global', 'if', 'import', 'in', 'is', 'lambda', 'nonlocal', 'not', 'or', 'pass', 'raise', 'return', 'try', 'while', 'with', 'yield']\n"
     ]
    }
   ],
   "source": [
    "import keyword \n",
    "x=keyword.kwlist\n",
    "print ((x))"
   ]
  },
  {
   "cell_type": "markdown",
   "id": "58665cc0-9ceb-422f-b20f-8124324629e6",
   "metadata": {},
   "source": [
    "<H4>KEYWORD length</H4> "
   ]
  },
  {
   "cell_type": "code",
   "execution_count": 7,
   "id": "63e87145-f52b-470f-9866-17d02dc9a1e9",
   "metadata": {},
   "outputs": [
    {
     "name": "stdout",
     "output_type": "stream",
     "text": [
      "35\n"
     ]
    }
   ],
   "source": [
    "import keyword \n",
    "x=keyword.kwlist\n",
    "print (len(x))"
   ]
  },
  {
   "cell_type": "markdown",
   "id": "ee2866bf-d2f4-4133-ba1e-448ff8604a0a",
   "metadata": {},
   "source": [
    "<H4>SOFT KEYWORD</H4> "
   ]
  },
  {
   "cell_type": "code",
   "execution_count": 9,
   "id": "a5bebe02-cc1a-45fe-b52c-242f12884617",
   "metadata": {},
   "outputs": [
    {
     "name": "stdout",
     "output_type": "stream",
     "text": [
      "['_', 'case', 'match', 'type']\n"
     ]
    }
   ],
   "source": [
    "import keyword \n",
    "y=keyword.softkwlist\n",
    "print ((y))"
   ]
  },
  {
   "cell_type": "markdown",
   "id": "4f01b321-9059-427b-9cb7-38dff2c9f91a",
   "metadata": {},
   "source": [
    "<H4>SOFT KEYWORD length</H4> "
   ]
  },
  {
   "cell_type": "code",
   "execution_count": 11,
   "id": "38fd912c-447d-40ba-8d90-b7a1996ac649",
   "metadata": {},
   "outputs": [
    {
     "name": "stdout",
     "output_type": "stream",
     "text": [
      "4\n"
     ]
    }
   ],
   "source": [
    "import keyword \n",
    "y=keyword.softkwlist\n",
    "print (len(y))"
   ]
  },
  {
   "cell_type": "markdown",
   "id": "1e03122e-978f-4166-ad25-0c5dc381955b",
   "metadata": {},
   "source": [
    "<H1>STRING</H1> "
   ]
  },
  {
   "cell_type": "markdown",
   "id": "de4c9dd9-18bc-4c16-85e8-5af1c36ed9f2",
   "metadata": {},
   "source": [
    "<H2>find lowercase string</H2> "
   ]
  },
  {
   "cell_type": "code",
   "execution_count": 12,
   "id": "4041cc28-7d61-479c-a496-65fa01fb56b0",
   "metadata": {},
   "outputs": [
    {
     "name": "stdout",
     "output_type": "stream",
     "text": [
      "abcdefghijklmnopqrstuvwxyz\n",
      "26\n"
     ]
    }
   ],
   "source": [
    "import string \n",
    "lower_case = string.ascii_lowercase\n",
    "print(lower_case)\n",
    "print(len(lower_case))"
   ]
  },
  {
   "cell_type": "markdown",
   "id": "aadcc49b-5c41-48d0-bd51-2f37c01a0b51",
   "metadata": {},
   "source": [
    "<H2>find uppercase string</H2> "
   ]
  },
  {
   "cell_type": "code",
   "execution_count": 13,
   "id": "ae12c5da-a443-4aa1-9c6a-79a5cebe9004",
   "metadata": {},
   "outputs": [
    {
     "name": "stdout",
     "output_type": "stream",
     "text": [
      "ABCDEFGHIJKLMNOPQRSTUVWXYZ\n",
      "26\n"
     ]
    }
   ],
   "source": [
    "import string \n",
    "upper_case = str ing.ascii_uppercase\n",
    "print(upper_case)\n",
    "print(len(upper_case))"
   ]
  },
  {
   "cell_type": "markdown",
   "id": "51dd22ca-b3fa-4ce7-83f0-1c9dcf505fd7",
   "metadata": {},
   "source": [
    "# IDENTIFIER"
   ]
  },
  {
   "cell_type": "markdown",
   "id": "659b91ff-3fba-4ea6-a7d0-8319851a641d",
   "metadata": {},
   "source": [
    "<H3>IDENTIFIER RULES</H3>"
   ]
  },
  {
   "cell_type": "raw",
   "id": "be6ee3dd-cbe4-4f36-97bd-e5eadce2680f",
   "metadata": {},
   "source": [
    "1) DO NOT START WITH DIGIT (0-9).\n",
    "2) ALWAYS START WITH (a-z) or (A-Z)OR ONLY ONE SPECIAL SYMBOL (_)UNDERSCORE.\n",
    "3) DO NOT USE SPACE IN B/W NAME CHARACTER INSTED OF SPACE USE UNDERSCORE(_).\n",
    "4)CASE SENSITIVE"
   ]
  },
  {
   "cell_type": "code",
   "execution_count": 1,
   "id": "c50789b9-4ada-4c2a-be17-02e4d927db6f",
   "metadata": {},
   "outputs": [
    {
     "ename": "SyntaxError",
     "evalue": "invalid decimal literal (1076808575.py, line 1)",
     "output_type": "error",
     "traceback": [
      "\u001b[1;36m  Cell \u001b[1;32mIn[1], line 1\u001b[1;36m\u001b[0m\n\u001b[1;33m    1x=20\u001b[0m\n\u001b[1;37m    ^\u001b[0m\n\u001b[1;31mSyntaxError\u001b[0m\u001b[1;31m:\u001b[0m invalid decimal literal\n"
     ]
    }
   ],
   "source": [
    "1x=20\n",
    "print(1x)"
   ]
  },
  {
   "cell_type": "code",
   "execution_count": 2,
   "id": "3adfd3ea-c0f5-4620-b6db-6ed91a42d6d3",
   "metadata": {},
   "outputs": [
    {
     "name": "stdout",
     "output_type": "stream",
     "text": [
      "10\n"
     ]
    }
   ],
   "source": [
    "x=10\n",
    "print(x)"
   ]
  },
  {
   "cell_type": "code",
   "execution_count": 3,
   "id": "b8a0fb6c-64c2-4491-9a42-d12f13a0ce92",
   "metadata": {},
   "outputs": [
    {
     "name": "stdout",
     "output_type": "stream",
     "text": [
      "10\n"
     ]
    }
   ],
   "source": [
    "X =10\n",
    "print(X)"
   ]
  },
  {
   "cell_type": "code",
   "execution_count": 4,
   "id": "aaee0caf-14a6-4cf8-889c-234ef936f00e",
   "metadata": {},
   "outputs": [
    {
     "name": "stdout",
     "output_type": "stream",
     "text": [
      "10\n"
     ]
    }
   ],
   "source": [
    "_X=10\n",
    "print(_X)"
   ]
  },
  {
   "cell_type": "code",
   "execution_count": 6,
   "id": "ae7bc79d-9d11-404b-ac6a-8022bddf1883",
   "metadata": {},
   "outputs": [
    {
     "name": "stdout",
     "output_type": "stream",
     "text": [
      "10\n"
     ]
    }
   ],
   "source": [
    "_1=10\n",
    "print(_1)"
   ]
  },
  {
   "cell_type": "code",
   "execution_count": 7,
   "id": "8dd2c4c0-ce07-4abb-920d-262e01823d88",
   "metadata": {},
   "outputs": [
    {
     "ename": "SyntaxError",
     "evalue": "cannot assign to literal here. Maybe you meant '==' instead of '='? (2513911252.py, line 1)",
     "output_type": "error",
     "traceback": [
      "\u001b[1;36m  Cell \u001b[1;32mIn[7], line 1\u001b[1;36m\u001b[0m\n\u001b[1;33m    1=10\u001b[0m\n\u001b[1;37m    ^\u001b[0m\n\u001b[1;31mSyntaxError\u001b[0m\u001b[1;31m:\u001b[0m cannot assign to literal here. Maybe you meant '==' instead of '='?\n"
     ]
    }
   ],
   "source": [
    "1=10\n",
    "print(1)"
   ]
  },
  {
   "cell_type": "code",
   "execution_count": 8,
   "id": "91380e0b-b40f-456a-a707-9d1c297be158",
   "metadata": {},
   "outputs": [
    {
     "ename": "SyntaxError",
     "evalue": "invalid syntax (2531786280.py, line 2)",
     "output_type": "error",
     "traceback": [
      "\u001b[1;36m  Cell \u001b[1;32mIn[8], line 2\u001b[1;36m\u001b[0m\n\u001b[1;33m    all key =keyword.kwlist\u001b[0m\n\u001b[1;37m        ^\u001b[0m\n\u001b[1;31mSyntaxError\u001b[0m\u001b[1;31m:\u001b[0m invalid syntax\n"
     ]
    }
   ],
   "source": [
    "import keyword\n",
    "all key =keyword.kwlist\n",
    "print(all key)"
   ]
  },
  {
   "cell_type": "code",
   "execution_count": 9,
   "id": "c1208096-d7d3-4849-92e4-848f21c1611d",
   "metadata": {},
   "outputs": [
    {
     "name": "stdout",
     "output_type": "stream",
     "text": [
      "['False', 'None', 'True', 'and', 'as', 'assert', 'async', 'await', 'break', 'class', 'continue', 'def', 'del', 'elif', 'else', 'except', 'finally', 'for', 'from', 'global', 'if', 'import', 'in', 'is', 'lambda', 'nonlocal', 'not', 'or', 'pass', 'raise', 'return', 'try', 'while', 'with', 'yield']\n"
     ]
    }
   ],
   "source": [
    "import keyword\n",
    "all_key =keyword.kwlist\n",
    "print(all_key)"
   ]
  },
  {
   "cell_type": "code",
   "execution_count": 10,
   "id": "032b9c5f-98c8-4018-bc85-d62881e770bc",
   "metadata": {},
   "outputs": [
    {
     "name": "stdout",
     "output_type": "stream",
     "text": [
      "['False', 'None', 'True', 'and', 'as', 'assert', 'async', 'await', 'break', 'class', 'continue', 'def', 'del', 'elif', 'else', 'except', 'finally', 'for', 'from', 'global', 'if', 'import', 'in', 'is', 'lambda', 'nonlocal', 'not', 'or', 'pass', 'raise', 'return', 'try', 'while', 'with', 'yield']\n"
     ]
    }
   ],
   "source": [
    "import keyword\n",
    "all3key =keyword.kwlist\n",
    "print(all3key)"
   ]
  },
  {
   "cell_type": "code",
   "execution_count": 15,
   "id": "af85f31e-fe9c-471c-ab0c-787884889928",
   "metadata": {},
   "outputs": [
    {
     "ename": "NameError",
     "evalue": "name 'A' is not defined",
     "output_type": "error",
     "traceback": [
      "\u001b[1;31m---------------------------------------------------------------------------\u001b[0m",
      "\u001b[1;31mNameError\u001b[0m                                 Traceback (most recent call last)",
      "Cell \u001b[1;32mIn[15], line 2\u001b[0m\n\u001b[0;32m      1\u001b[0m a\u001b[38;5;241m=\u001b[39m\u001b[38;5;241m10\u001b[39m\n\u001b[1;32m----> 2\u001b[0m \u001b[38;5;28mprint\u001b[39m(A)\n",
      "\u001b[1;31mNameError\u001b[0m: name 'A' is not defined"
     ]
    }
   ],
   "source": [
    "a=10\n",
    "print(A)"
   ]
  },
  {
   "cell_type": "code",
   "execution_count": 17,
   "id": "98af7677-8b6c-4a7b-86fa-7e4ce2b7e7d8",
   "metadata": {},
   "outputs": [
    {
     "ename": "NameError",
     "evalue": "name 'PRINT' is not defined",
     "output_type": "error",
     "traceback": [
      "\u001b[1;31m---------------------------------------------------------------------------\u001b[0m",
      "\u001b[1;31mNameError\u001b[0m                                 Traceback (most recent call last)",
      "Cell \u001b[1;32mIn[17], line 1\u001b[0m\n\u001b[1;32m----> 1\u001b[0m PRINT(X)\n",
      "\u001b[1;31mNameError\u001b[0m: name 'PRINT' is not defined"
     ]
    }
   ],
   "source": [
    "PRINT(X)"
   ]
  },
  {
   "cell_type": "code",
   "execution_count": 18,
   "id": "5497820f-1a7b-446a-b7c8-5601474a7e35",
   "metadata": {},
   "outputs": [
    {
     "name": "stdout",
     "output_type": "stream",
     "text": [
      "10\n"
     ]
    }
   ],
   "source": [
    "x=10\n",
    "print(x)"
   ]
  },
  {
   "cell_type": "code",
   "execution_count": 24,
   "id": "c7422d99-4096-4752-9371-70c8d99b99fb",
   "metadata": {},
   "outputs": [
    {
     "name": "stdout",
     "output_type": "stream",
     "text": [
      "10\n"
     ]
    }
   ],
   "source": [
    "print(X)"
   ]
  },
  {
   "cell_type": "code",
   "execution_count": 21,
   "id": "258149b2-f113-4e87-9f7a-5b9072a9c6e9",
   "metadata": {},
   "outputs": [],
   "source": [
    "Z=10\n"
   ]
  },
  {
   "cell_type": "code",
   "execution_count": 26,
   "id": "33e139d5-5db3-455e-b2e0-c493de717ea7",
   "metadata": {},
   "outputs": [
    {
     "name": "stdout",
     "output_type": "stream",
     "text": [
      "10\n"
     ]
    }
   ],
   "source": [
    "print(Z)"
   ]
  },
  {
   "cell_type": "code",
   "execution_count": 22,
   "id": "c54e6a35-3c46-447b-9114-369fadbe7cc5",
   "metadata": {},
   "outputs": [],
   "source": [
    "AB=30"
   ]
  },
  {
   "cell_type": "code",
   "execution_count": 25,
   "id": "115f687e-9757-4358-b80f-563d414b2e2c",
   "metadata": {},
   "outputs": [
    {
     "name": "stdout",
     "output_type": "stream",
     "text": [
      "30\n"
     ]
    }
   ],
   "source": [
    "print(AB)"
   ]
  },
  {
   "cell_type": "code",
   "execution_count": 27,
   "id": "f7f54bcb-7ecf-419f-b6ef-ba5751b15d9a",
   "metadata": {},
   "outputs": [
    {
     "ename": "NameError",
     "evalue": "name 'Ab' is not defined",
     "output_type": "error",
     "traceback": [
      "\u001b[1;31m---------------------------------------------------------------------------\u001b[0m",
      "\u001b[1;31mNameError\u001b[0m                                 Traceback (most recent call last)",
      "Cell \u001b[1;32mIn[27], line 1\u001b[0m\n\u001b[1;32m----> 1\u001b[0m \u001b[38;5;28mprint\u001b[39m(Ab)\n",
      "\u001b[1;31mNameError\u001b[0m: name 'Ab' is not defined"
     ]
    }
   ],
   "source": [
    "print(Ab)"
   ]
  },
  {
   "cell_type": "code",
   "execution_count": 29,
   "id": "134329bb-94fb-4ca0-a17e-c16fdfe5aac1",
   "metadata": {},
   "outputs": [
    {
     "name": "stdout",
     "output_type": "stream",
     "text": [
      "10\n",
      "20\n"
     ]
    }
   ],
   "source": [
    "_1x=10\n",
    "_xyz_123=20\n",
    "print(_1x)\n",
    "print(_xyz_123)"
   ]
  },
  {
   "cell_type": "code",
   "execution_count": 30,
   "id": "f8b2e86e-6011-4b95-9960-8004acab9c20",
   "metadata": {},
   "outputs": [
    {
     "name": "stdout",
     "output_type": "stream",
     "text": [
      "10\n",
      "20.5\n",
      "python\n"
     ]
    }
   ],
   "source": [
    "x=10\n",
    "y=20.5\n",
    "z='python'\n",
    "print(x)\n",
    "print(y)\n",
    "print(z)"
   ]
  },
  {
   "cell_type": "raw",
   "id": "5ca0ad6d-45a7-4218-89eb-727eff7671c8",
   "metadata": {},
   "source": [
    "CONSTANT VALUE IS CALLLED LITERAL. EXAMPLE(10,20.5,PYTHON)"
   ]
  },
  {
   "cell_type": "markdown",
   "id": "6b35101e-ab16-4572-a800-85e45ad6adfe",
   "metadata": {},
   "source": [
    "# LITERALS"
   ]
  },
  {
   "cell_type": "markdown",
   "id": "26987dc2-1d61-4c4d-b5a7-22348ba81fbf",
   "metadata": {},
   "source": [
    "<H3>CONSTANT VALUE IS CALLLED LITERAL. EXAMPLE(10,20.5,PYTHON)</H3>"
   ]
  },
  {
   "cell_type": "code",
   "execution_count": 33,
   "id": "e5965fb1-c9bb-4e20-b8a4-3b06e4a9f50c",
   "metadata": {},
   "outputs": [
    {
     "name": "stdout",
     "output_type": "stream",
     "text": [
      "10\n",
      "20.5\n"
     ]
    }
   ],
   "source": [
    "10==x\n",
    "20==y\n",
    "print(x)\n",
    "print(y)"
   ]
  },
  {
   "cell_type": "code",
   "execution_count": 34,
   "id": "1a3e986b-bbca-46dd-8f53-c6c54c5939cd",
   "metadata": {},
   "outputs": [
    {
     "ename": "SyntaxError",
     "evalue": "cannot assign to literal here. Maybe you meant '==' instead of '='? (2766739014.py, line 1)",
     "output_type": "error",
     "traceback": [
      "\u001b[1;36m  Cell \u001b[1;32mIn[34], line 1\u001b[1;36m\u001b[0m\n\u001b[1;33m    10=x\u001b[0m\n\u001b[1;37m    ^\u001b[0m\n\u001b[1;31mSyntaxError\u001b[0m\u001b[1;31m:\u001b[0m cannot assign to literal here. Maybe you meant '==' instead of '='?\n"
     ]
    }
   ],
   "source": [
    "10=x\n",
    "20=y\n",
    "print(x)\n",
    "print(y)"
   ]
  },
  {
   "cell_type": "code",
   "execution_count": 35,
   "id": "34a3c31f-0248-473f-9d6b-af43e7542b0e",
   "metadata": {},
   "outputs": [
    {
     "ename": "SyntaxError",
     "evalue": "cannot assign to literal here. Maybe you meant '==' instead of '='? (2454909510.py, line 1)",
     "output_type": "error",
     "traceback": [
      "\u001b[1;36m  Cell \u001b[1;32mIn[35], line 1\u001b[1;36m\u001b[0m\n\u001b[1;33m    10=x\u001b[0m\n\u001b[1;37m    ^\u001b[0m\n\u001b[1;31mSyntaxError\u001b[0m\u001b[1;31m:\u001b[0m cannot assign to literal here. Maybe you meant '==' instead of '='?\n"
     ]
    }
   ],
   "source": [
    "10=x\n",
    "20=y\n",
    "print(10)\n",
    "print(20)"
   ]
  },
  {
   "cell_type": "markdown",
   "id": "2a8a382c-625a-4203-891b-24f96628ec21",
   "metadata": {},
   "source": [
    "<h3>literal types</h3>"
   ]
  },
  {
   "cell_type": "raw",
   "id": "0eae73d7-0834-4070-875e-e470b358f315",
   "metadata": {},
   "source": [
    "1)NUMERIC\n",
    "  a) integer\n",
    "  b)float\n",
    "  c)complex\n",
    "2)STRING\n",
    "3)LIST\n",
    "4)TUPLE\n",
    "5)DICTONARY\n",
    "6)SET\n",
    "7)FROZENSET\n",
    "8)BOOLEAN"
   ]
  },
  {
   "cell_type": "markdown",
   "id": "0a885db8-57f3-49a4-a22c-78cd5ee4e6a1",
   "metadata": {},
   "source": [
    "<h3>NUMERIC TYPES</h3>"
   ]
  },
  {
   "cell_type": "markdown",
   "id": "aea4ac3c-b757-4b90-95a4-482f32ada079",
   "metadata": {},
   "source": [
    "<h4>INTEGER</h4>"
   ]
  },
  {
   "cell_type": "code",
   "execution_count": 38,
   "id": "7c220bc9-4f1e-40ea-8dee-79a53ef0b3d3",
   "metadata": {},
   "outputs": [
    {
     "name": "stdout",
     "output_type": "stream",
     "text": [
      "<class 'int'>\n"
     ]
    }
   ],
   "source": [
    "X=10\n",
    "print(type(x))"
   ]
  },
  {
   "cell_type": "code",
   "execution_count": 39,
   "id": "0285a5da-f2cd-4bdc-8248-6046f73b42bb",
   "metadata": {},
   "outputs": [
    {
     "name": "stdout",
     "output_type": "stream",
     "text": [
      "140723912846040\n"
     ]
    }
   ],
   "source": [
    "print(id(x))"
   ]
  },
  {
   "cell_type": "markdown",
   "id": "863a721d-4489-41cb-94a2-3478a8e8dcce",
   "metadata": {},
   "source": [
    "<h4>FLOAT</h4>"
   ]
  },
  {
   "cell_type": "code",
   "execution_count": 44,
   "id": "3f7baa17-4588-4f54-a442-5099171642d7",
   "metadata": {},
   "outputs": [
    {
     "name": "stdout",
     "output_type": "stream",
     "text": [
      "<class 'float'>\n",
      "2028071208912\n"
     ]
    }
   ],
   "source": [
    "y=10.5\n",
    "print(type(y))\n",
    "print(id(y))"
   ]
  },
  {
   "cell_type": "code",
   "execution_count": 42,
   "id": "063be65b-b0f2-45e4-84ed-1063065e9be7",
   "metadata": {},
   "outputs": [
    {
     "name": "stdout",
     "output_type": "stream",
     "text": [
      "<class 'float'>\n"
     ]
    }
   ],
   "source": [
    "y=10.0\n",
    "print(type(y))"
   ]
  },
  {
   "cell_type": "markdown",
   "id": "60ff855f-4d7b-4128-a255-398779b9ea01",
   "metadata": {},
   "source": [
    "<h4>COMPLEX</h4>"
   ]
  },
  {
   "cell_type": "markdown",
   "id": "3ec39f41-36a3-440e-baaa-27713cdf1676",
   "metadata": {},
   "source": [
    "x=real number+imaginary number"
   ]
  },
  {
   "cell_type": "code",
   "execution_count": 45,
   "id": "3fe2ff60-529f-4ee4-b7cf-e54d8f38bc5b",
   "metadata": {},
   "outputs": [
    {
     "name": "stdout",
     "output_type": "stream",
     "text": [
      "<class 'complex'>\n",
      "<class 'complex'>\n"
     ]
    }
   ],
   "source": [
    "x=10 +20j\n",
    "y=20+30j\n",
    "print(type(x))\n",
    "print(type(y))"
   ]
  },
  {
   "cell_type": "code",
   "execution_count": 46,
   "id": "ed67c49c-39cf-4bce-83b3-f1d79fb30fd3",
   "metadata": {},
   "outputs": [
    {
     "ename": "SyntaxError",
     "evalue": "invalid decimal literal (2528298744.py, line 1)",
     "output_type": "error",
     "traceback": [
      "\u001b[1;36m  Cell \u001b[1;32mIn[46], line 1\u001b[1;36m\u001b[0m\n\u001b[1;33m    a=10 +20m\u001b[0m\n\u001b[1;37m           ^\u001b[0m\n\u001b[1;31mSyntaxError\u001b[0m\u001b[1;31m:\u001b[0m invalid decimal literal\n"
     ]
    }
   ],
   "source": [
    "a=10 +20m\n",
    "b=20+30m\n",
    "print(type(b))\n",
    "print(type(a))"
   ]
  },
  {
   "cell_type": "code",
   "execution_count": 2,
   "id": "957eb72b-5167-4fc4-b8be-3999027a17fa",
   "metadata": {},
   "outputs": [
    {
     "ename": "NameError",
     "evalue": "name 'j' is not defined",
     "output_type": "error",
     "traceback": [
      "\u001b[1;31m---------------------------------------------------------------------------\u001b[0m",
      "\u001b[1;31mNameError\u001b[0m                                 Traceback (most recent call last)",
      "Cell \u001b[1;32mIn[2], line 1\u001b[0m\n\u001b[1;32m----> 1\u001b[0m z\u001b[38;5;241m=\u001b[39mj\n\u001b[0;32m      2\u001b[0m \u001b[38;5;28mprint\u001b[39m(\u001b[38;5;28mtype\u001b[39m(z))\n",
      "\u001b[1;31mNameError\u001b[0m: name 'j' is not defined"
     ]
    }
   ],
   "source": [
    "z=j\n",
    "print(type(z))"
   ]
  },
  {
   "cell_type": "markdown",
   "id": "e3f7ff6e-84ff-4d61-9cb3-434adb7013ec",
   "metadata": {},
   "source": [
    "<H2>INDEXING</H2>"
   ]
  },
  {
   "cell_type": "raw",
   "id": "d358b881-bae4-4868-9e53-358a2c9bbff9",
   "metadata": {},
   "source": [
    "COMMA SAPERTATED.\n",
    "SQUARE BRACKET. \n",
    "MUTABLE.\n",
    "COLLECTION."
   ]
  },
  {
   "cell_type": "code",
   "execution_count": 13,
   "id": "6e0b0f95-ae3f-48c9-bc6e-8d85a94948b3",
   "metadata": {},
   "outputs": [
    {
     "name": "stdout",
     "output_type": "stream",
     "text": [
      "10\n",
      "40\n",
      "50\n"
     ]
    }
   ],
   "source": [
    "my_list = [10, 20, 30, 40, 50]\n",
    "print(my_list[0])   # Output: 10 (accessing the first element)\n",
    "print(my_list[3])   # Output: 40 (accessing the fourth element)\n",
    "print(my_list[-1])  # Output: 50 (accessing the last element)"
   ]
  },
  {
   "cell_type": "code",
   "execution_count": 23,
   "id": "344739fd-e7a5-4405-b865-1246e1180c84",
   "metadata": {},
   "outputs": [
    {
     "name": "stdout",
     "output_type": "stream",
     "text": [
      "[]\n"
     ]
    }
   ],
   "source": [
    "print(my_list[-1:-4:2])"
   ]
  },
  {
   "cell_type": "code",
   "execution_count": 29,
   "id": "e266d830-8d38-49a2-a321-d10dcdb597c6",
   "metadata": {},
   "outputs": [
    {
     "name": "stdout",
     "output_type": "stream",
     "text": [
      "[50, 40, 30]\n"
     ]
    }
   ],
   "source": [
    "print(my_list[-1:-4:-1])"
   ]
  },
  {
   "cell_type": "markdown",
   "id": "1ed7e7b7-1edb-4c09-b94f-467fdd365a55",
   "metadata": {},
   "source": [
    "<h2>sliceing</h2>"
   ]
  },
  {
   "cell_type": "code",
   "execution_count": 1,
   "id": "78e0fce0-1349-4870-9b29-57ed12667468",
   "metadata": {},
   "outputs": [],
   "source": [
    "my_string = \"Hello, Python!\"   "
   ]
  },
  {
   "cell_type": "code",
   "execution_count": 3,
   "id": "6b977fa4-1828-4fb1-8ddc-994d196a8360",
   "metadata": {},
   "outputs": [
    {
     "name": "stdout",
     "output_type": "stream",
     "text": [
      "Hello, Py\n"
     ]
    }
   ],
   "source": [
    "print(my_string[0:9])      # Output: 'Hello' (elements from index 0 up to, but not including, 5)\n"
   ]
  },
  {
   "cell_type": "code",
   "execution_count": 5,
   "id": "e6a388b1-472a-491c-96ec-ff733fdd7b39",
   "metadata": {},
   "outputs": [
    {
     "name": "stdout",
     "output_type": "stream",
     "text": [
      "Hello\n"
     ]
    }
   ],
   "source": [
    "print(my_string[0:5]) "
   ]
  },
  {
   "cell_type": "code",
   "execution_count": 8,
   "id": "5a4a8db4-49c6-44bd-8949-58840193542b",
   "metadata": {},
   "outputs": [
    {
     "name": "stdout",
     "output_type": "stream",
     "text": [
      "H,h\n"
     ]
    }
   ],
   "source": [
    "print(my_string[::5])\n"
   ]
  },
  {
   "cell_type": "code",
   "execution_count": 2,
   "id": "40d0dc03-6b1b-4bc0-a7b5-f6a1e19f7be6",
   "metadata": {},
   "outputs": [
    {
     "name": "stdout",
     "output_type": "stream",
     "text": [
      "[]\n"
     ]
    }
   ],
   "source": [
    "a = [10, 20, 30, 40, 50]\n",
    "print (a[4:1])"
   ]
  },
  {
   "cell_type": "code",
   "execution_count": 3,
   "id": "28b779a9-6c70-4620-af47-1e58e6d3a138",
   "metadata": {},
   "outputs": [
    {
     "name": "stdout",
     "output_type": "stream",
     "text": [
      "[50, 40, 30]\n"
     ]
    }
   ],
   "source": [
    "a = [10, 20, 30, 40, 50]\n",
    "print (a[4:1:-1])"
   ]
  },
  {
   "cell_type": "code",
   "execution_count": 4,
   "id": "b82509e0-94b8-4831-a1c2-1d9157a98a72",
   "metadata": {},
   "outputs": [
    {
     "name": "stdout",
     "output_type": "stream",
     "text": [
      "[20, 30, 40]\n"
     ]
    }
   ],
   "source": [
    "a = [10, 20, 30, 40, 50]\n",
    "print (a[-4:-1])"
   ]
  },
  {
   "cell_type": "code",
   "execution_count": 5,
   "id": "c5f12d8e-ee5d-4f8b-a156-6fd90c10a1af",
   "metadata": {},
   "outputs": [
    {
     "name": "stdout",
     "output_type": "stream",
     "text": [
      "[]\n"
     ]
    }
   ],
   "source": [
    "a = [10, 20, 30, 40, 50]\n",
    "print (a[-1:-4])"
   ]
  },
  {
   "cell_type": "code",
   "execution_count": 8,
   "id": "df7ff0f0-d41a-41e9-a71c-13257aa74d3c",
   "metadata": {},
   "outputs": [
    {
     "name": "stdout",
     "output_type": "stream",
     "text": [
      "[20, 30, 40]\n"
     ]
    }
   ],
   "source": [
    "a = [10, 20, 30, 40, 50]\n",
    "print (a[-4:-1])"
   ]
  },
  {
   "cell_type": "code",
   "execution_count": 10,
   "id": "c0d3785b-327f-4678-be9a-51fc3aace9bb",
   "metadata": {},
   "outputs": [
    {
     "name": "stdout",
     "output_type": "stream",
     "text": [
      "[]\n"
     ]
    }
   ],
   "source": [
    "a = [10, 20, 30, 40, 50]\n",
    "print (a[-4:-1:-1])"
   ]
  },
  {
   "cell_type": "markdown",
   "id": "e3994be9-ee8a-403f-be94-796333063045",
   "metadata": {},
   "source": [
    "# write a python progrom to check if a no is postive ,negative or zero if it is postive also check if it id even or odd"
   ]
  },
  {
   "cell_type": "code",
   "execution_count": 32,
   "id": "da9ca4fc-290a-40c9-9598-e738406c756b",
   "metadata": {},
   "outputs": [
    {
     "ename": "IndentationError",
     "evalue": "unexpected indent (1154919640.py, line 4)",
     "output_type": "error",
     "traceback": [
      "\u001b[1;36m  Cell \u001b[1;32mIn[32], line 4\u001b[1;36m\u001b[0m\n\u001b[1;33m    if a%2==0:\u001b[0m\n\u001b[1;37m    ^\u001b[0m\n\u001b[1;31mIndentationError\u001b[0m\u001b[1;31m:\u001b[0m unexpected indent\n"
     ]
    }
   ],
   "source": [
    "a = int(input(\"enter the no\"))\n",
    "if a>0:\n",
    "   print (\"positve no\")\n",
    "    if a%2==0: \n",
    "        print(\"even no\")\n",
    "        else:\n",
    "        print(\"odd no\")\n",
    "elif a==0:\n",
    "   print(\"no is zero\")\n",
    "else a<0:\n",
    "   print (\"negative no\")"
   ]
  },
  {
   "cell_type": "code",
   "execution_count": null,
   "id": "d5e05858-1a3b-47d1-9595-f7b0dcfce2db",
   "metadata": {},
   "outputs": [],
   "source": [
    "##write a program to take input age and print status if adult also chek for senior"
   ]
  },
  {
   "cell_type": "code",
   "execution_count": 45,
   "id": "2d96aeac-77c9-4ae0-adcc-b728dc9721d5",
   "metadata": {},
   "outputs": [
    {
     "name": "stdin",
     "output_type": "stream",
     "text": [
      "enter the age 66\n"
     ]
    },
    {
     "name": "stdout",
     "output_type": "stream",
     "text": [
      "adult\n",
      "senior\n"
     ]
    }
   ],
   "source": [
    "age = int (input (\"enter the age\"))\n",
    "if age>=18:\n",
    "    print (\"adult\")\n",
    "    if age>=65:\n",
    "       print(\"senior\")\n",
    "else:\n",
    "    print(\"child\")\n"
   ]
  },
  {
   "cell_type": "code",
   "execution_count": 46,
   "id": "5c04c592-c356-4f64-8555-4206cc492751",
   "metadata": {},
   "outputs": [
    {
     "name": "stdin",
     "output_type": "stream",
     "text": [
      "enter the no 5\n"
     ]
    }
   ],
   "source": [
    "##wrp to check which no is lagerest if ties special message printed.\n",
    "##wrp to take input as tempearture and classify the condition hot,cold or pleasent or very cold.\n",
    "##wrp to check wheather the year is leap year ir not.\n",
    "##wrp to check if 3 digit no is divisible by both 3 and 7.\n",
    "##wrt to check a name that is started with vowel and consanent.\n",
    "a = int(input(\"enter the no\"))\n",
    "b = int(input(\"enter the no\"))\n",
    "c= int(input(\"enter the no\"))\n",
    "if a<b<c:\n",
    "    print (\"a is greater\")\n",
    "    if a==b>c:\n",
    "       print (\"a and b is tie\")\n",
    "    if b<c<a:\n",
    "       print (\"a and \")"
   ]
  }
 ],
 "metadata": {
  "kernelspec": {
   "display_name": "Python 3 (ipykernel)",
   "language": "python",
   "name": "python3"
  },
  "language_info": {
   "codemirror_mode": {
    "name": "ipython",
    "version": 3
   },
   "file_extension": ".py",
   "mimetype": "text/x-python",
   "name": "python",
   "nbconvert_exporter": "python",
   "pygments_lexer": "ipython3",
   "version": "3.12.7"
  }
 },
 "nbformat": 4,
 "nbformat_minor": 5
}
