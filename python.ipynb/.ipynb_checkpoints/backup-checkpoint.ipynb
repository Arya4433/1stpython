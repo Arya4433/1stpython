{
 "cells": [
  {
   "cell_type": "markdown",
   "id": "3a964859-9967-4b7e-8057-be0333138ec8",
   "metadata": {},
   "source": [
    "<h3>if and else </h3>"
   ]
  },
  {
   "cell_type": "code",
   "execution_count": 22,
   "id": "bd3928be-6b51-4768-8182-4f95b3b6f8d7",
   "metadata": {},
   "outputs": [
    {
     "name": "stdin",
     "output_type": "stream",
     "text": [
      "enter the number 2\n",
      "enter the number 4\n"
     ]
    },
    {
     "name": "stdout",
     "output_type": "stream",
     "text": [
      "b i greater\n"
     ]
    }
   ],
   "source": [
    "a=int(input (\"enter the number\"))\n",
    "b= int (input (\"enter the number\"))\n",
    "if a>b:\n",
    "    print(\"a is greater\")\n",
    "else:\n",
    "    print (\"b is greater\")"
   ]
  },
  {
   "cell_type": "code",
   "execution_count": 24,
   "id": "55bf7928-ea86-4469-8a12-5466e70c99e5",
   "metadata": {},
   "outputs": [
    {
     "name": "stdin",
     "output_type": "stream",
     "text": [
      "enter the number 2\n",
      "enter the number 3\n"
     ]
    },
    {
     "name": "stdout",
     "output_type": "stream",
     "text": [
      "a is not equal to b\n"
     ]
    }
   ],
   "source": [
    "a=int(input (\"enter the number\"))\n",
    "b= int (input (\"enter the number\"))\n",
    "if a==b:\n",
    "   print(\"a and b is equal\")\n",
    "else:\n",
    "   print (\"a is not equal to b\")"
   ]
  },
  {
   "cell_type": "code",
   "execution_count": 27,
   "id": "a7bb3f2b-ed1c-4768-8e0b-b640d10ffab1",
   "metadata": {},
   "outputs": [
    {
     "name": "stdin",
     "output_type": "stream",
     "text": [
      "enter the number 2\n",
      "enter the number 3\n"
     ]
    },
    {
     "name": "stdout",
     "output_type": "stream",
     "text": [
      "a and b is not equal\n"
     ]
    }
   ],
   "source": [
    "a=int(input (\"enter the number\"))\n",
    "b= int (input (\"enter the number\"))\n",
    "if a!=b:\n",
    "   print(\"a and b is not equal\")\n",
    "else:\n",
    "   print (\"a is  equal to b\")"
   ]
  },
  {
   "cell_type": "code",
   "execution_count": null,
   "id": "7a081b41-2fe5-492f-adf8-f68a20ba3604",
   "metadata": {},
   "outputs": [],
   "source": [
    "a=int(input (\"number\"))\n",
    "if a/2==0:\n",
    "    print(\"no is even\")\n",
    "else:\n",
    "    print (\"no is odd\")"
   ]
  },
  {
   "cell_type": "markdown",
   "id": "6644011c-5832-41ec-a7fb-d5e611fd60c9",
   "metadata": {
    "jp-MarkdownHeadingCollapsed": true
   },
   "source": [
    "<h3>memebership operator </h3>\n",
    "in ,not in\n"
   ]
  },
  {
   "cell_type": "code",
   "execution_count": 11,
   "id": "56d51242-926b-4a12-b514-f4c3f0691912",
   "metadata": {},
   "outputs": [
    {
     "data": {
      "text/plain": [
       "True"
      ]
     },
     "execution_count": 11,
     "metadata": {},
     "output_type": "execute_result"
    }
   ],
   "source": [
    "a=(20,30,40)\n",
    "20 in a"
   ]
  },
  {
   "cell_type": "code",
   "execution_count": 12,
   "id": "82dae4f8-f611-4fde-a080-5b38050ba134",
   "metadata": {},
   "outputs": [
    {
     "data": {
      "text/plain": [
       "False"
      ]
     },
     "execution_count": 12,
     "metadata": {},
     "output_type": "execute_result"
    }
   ],
   "source": [
    "a=(20,30,40)\n",
    "2 in a"
   ]
  },
  {
   "cell_type": "markdown",
   "id": "52bf584b-3db6-4b6c-b0bf-7b68bfc9f20b",
   "metadata": {},
   "source": [
    "<h3>identity operator</h3>\n",
    "is,is not"
   ]
  },
  {
   "cell_type": "code",
   "execution_count": 20,
   "id": "9d36af49-f752-4f84-90c1-5c814ae239a8",
   "metadata": {},
   "outputs": [
    {
     "data": {
      "text/plain": [
       "True"
      ]
     },
     "execution_count": 20,
     "metadata": {},
     "output_type": "execute_result"
    }
   ],
   "source": [
    "a= 10 \n",
    "b = 10\n",
    "a is  b"
   ]
  },
  {
   "cell_type": "code",
   "execution_count": 29,
   "id": "3aafc4cb-cf1c-4274-8ae2-f96236c15fab",
   "metadata": {},
   "outputs": [
    {
     "data": {
      "text/plain": [
       "True"
      ]
     },
     "execution_count": 29,
     "metadata": {},
     "output_type": "execute_result"
    }
   ],
   "source": [
    "a=20\n",
    "b=30\n",
    "a is not b"
   ]
  },
  {
   "cell_type": "code",
   "execution_count": 21,
   "id": "331ab8b6-3415-4ada-927e-326c6fa48231",
   "metadata": {},
   "outputs": [
    {
     "data": {
      "text/plain": [
       "True"
      ]
     },
     "execution_count": 21,
     "metadata": {},
     "output_type": "execute_result"
    }
   ],
   "source": [
    "a=True\n",
    "b=True\n",
    "a is b"
   ]
  },
  {
   "cell_type": "code",
   "execution_count": null,
   "id": "3918c317-b268-486b-9d73-5db35c37f56d",
   "metadata": {},
   "outputs": [],
   "source": []
  }
 ],
 "metadata": {
  "kernelspec": {
   "display_name": "Python 3 (ipykernel)",
   "language": "python",
   "name": "python3"
  },
  "language_info": {
   "codemirror_mode": {
    "name": "ipython",
    "version": 3
   },
   "file_extension": ".py",
   "mimetype": "text/x-python",
   "name": "python",
   "nbconvert_exporter": "python",
   "pygments_lexer": "ipython3",
   "version": "3.12.7"
  }
 },
 "nbformat": 4,
 "nbformat_minor": 5
}
